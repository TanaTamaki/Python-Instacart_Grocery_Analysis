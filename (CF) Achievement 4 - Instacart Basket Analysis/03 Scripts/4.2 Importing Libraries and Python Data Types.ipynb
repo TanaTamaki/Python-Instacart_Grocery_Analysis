{
 "cells": [
  {
   "cell_type": "code",
   "execution_count": 1,
   "id": "071b87ad-ccbb-42dc-abe9-ed724d8f6fae",
   "metadata": {},
   "outputs": [],
   "source": [
    "# Import libraries\n",
    "import pandas as pd\n",
    "import numpy as np\n",
    "import os"
   ]
  },
  {
   "cell_type": "code",
   "execution_count": 2,
   "id": "cc1d2e07-0ed5-4882-8935-7ea5275d4924",
   "metadata": {},
   "outputs": [],
   "source": [
    "# Working with Python data types\n",
    "## code three different ways of reaching a result of 100 by adding or substracting numeric variables"
   ]
  },
  {
   "cell_type": "code",
   "execution_count": 3,
   "id": "431c8e48-f48a-4b9f-b307-c0436020c3d4",
   "metadata": {},
   "outputs": [
    {
     "data": {
      "text/plain": [
       "100"
      ]
     },
     "execution_count": 3,
     "metadata": {},
     "output_type": "execute_result"
    }
   ],
   "source": [
    "# 1st method\n",
    "x = 100\n",
    "y = 0\n",
    "x-y"
   ]
  },
  {
   "cell_type": "code",
   "execution_count": 4,
   "id": "f0e40989-d2b6-4708-ab1f-92666cc51854",
   "metadata": {},
   "outputs": [
    {
     "data": {
      "text/plain": [
       "100"
      ]
     },
     "execution_count": 4,
     "metadata": {},
     "output_type": "execute_result"
    }
   ],
   "source": [
    "# 2nd method\n",
    "x = 50 \n",
    "y = 50\n",
    "x + y"
   ]
  },
  {
   "cell_type": "code",
   "execution_count": 5,
   "id": "cc7f9d40-eaa3-43b5-b22e-82b33106f9a3",
   "metadata": {},
   "outputs": [
    {
     "data": {
      "text/plain": [
       "100"
      ]
     },
     "execution_count": 5,
     "metadata": {},
     "output_type": "execute_result"
    }
   ],
   "source": [
    "# 3rd method\n",
    "x = 90\n",
    "y = -10\n",
    "x - y"
   ]
  },
  {
   "cell_type": "code",
   "execution_count": 6,
   "id": "72768c47-a61d-4e1e-b512-9386aa06d269",
   "metadata": {},
   "outputs": [
    {
     "data": {
      "text/plain": [
       "3.735585585585585"
      ]
     },
     "execution_count": 6,
     "metadata": {},
     "output_type": "execute_result"
    }
   ],
   "source": [
    "# Code two floating-point variables and divide them by each other\n",
    "a = 8.293\n",
    "b = 2.22\n",
    "a/b"
   ]
  },
  {
   "cell_type": "code",
   "execution_count": 7,
   "id": "c88e4763-0b1b-482c-8a4c-4e0e568277d0",
   "metadata": {},
   "outputs": [
    {
     "data": {
      "text/plain": [
       "'animation'"
      ]
     },
     "execution_count": 7,
     "metadata": {},
     "output_type": "execute_result"
    }
   ],
   "source": [
    "# Construct a short word made of separate strings (concatenate)\n",
    "x = 'ani'\n",
    "y = 'mation'\n",
    "x + y"
   ]
  },
  {
   "cell_type": "code",
   "execution_count": 10,
   "id": "79461c1c-3ef1-42c9-815e-3364bf9a140b",
   "metadata": {},
   "outputs": [
    {
     "data": {
      "text/plain": [
       "'I have never used Python or Jupyter notebook before. I am anxious to learn!'"
      ]
     },
     "execution_count": 10,
     "metadata": {},
     "output_type": "execute_result"
    }
   ],
   "source": [
    "# Construct two short sentences made of separate strings\n",
    "x = 'I have never used Python or Jupyter notebook before. '\n",
    "y = 'I am anxious to learn!'\n",
    "x + y"
   ]
  },
  {
   "cell_type": "code",
   "execution_count": 14,
   "id": "e122b55c-502e-44ed-a822-e2a4da1402b1",
   "metadata": {},
   "outputs": [],
   "source": [
    "# Bonus - include a command that makes a string appear 100 times\n",
    "a = 'star'"
   ]
  },
  {
   "cell_type": "code",
   "execution_count": 15,
   "id": "cb46d8c0-b25b-422e-8f64-35ad874ea28f",
   "metadata": {},
   "outputs": [
    {
     "data": {
      "text/plain": [
       "'starstarstarstarstarstarstarstarstarstarstarstarstarstarstarstarstarstarstarstarstarstarstarstarstarstarstarstarstarstarstarstarstarstarstarstarstarstarstarstarstarstarstarstarstarstarstarstarstarstarstarstarstarstarstarstarstarstarstarstarstarstarstarstarstarstarstarstarstarstarstarstarstarstarstarstarstarstarstarstarstarstarstarstarstarstarstarstarstarstarstarstarstarstarstarstarstarstarstarstar'"
      ]
     },
     "execution_count": 15,
     "metadata": {},
     "output_type": "execute_result"
    }
   ],
   "source": [
    "a * 100"
   ]
  },
  {
   "cell_type": "code",
   "execution_count": null,
   "id": "0d1286c9-b3d0-4817-8158-74b4d4ea29fd",
   "metadata": {},
   "outputs": [],
   "source": []
  }
 ],
 "metadata": {
  "kernelspec": {
   "display_name": "Python [conda env:base] *",
   "language": "python",
   "name": "conda-base-py"
  },
  "language_info": {
   "codemirror_mode": {
    "name": "ipython",
    "version": 3
   },
   "file_extension": ".py",
   "mimetype": "text/x-python",
   "name": "python",
   "nbconvert_exporter": "python",
   "pygments_lexer": "ipython3",
   "version": "3.13.5"
  }
 },
 "nbformat": 4,
 "nbformat_minor": 5
}
