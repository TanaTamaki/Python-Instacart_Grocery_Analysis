{
 "cells": [
  {
   "cell_type": "markdown",
   "id": "428871a5-ea8d-4ae0-b34e-18d40982cc21",
   "metadata": {},
   "source": [
    "# Importing Libraries"
   ]
  },
  {
   "cell_type": "code",
   "execution_count": 2,
   "id": "d8403d42-bf57-44b7-8528-034787c9d418",
   "metadata": {},
   "outputs": [],
   "source": [
    "import pandas as pd\n",
    "import numpy as np\n",
    "import os"
   ]
  },
  {
   "cell_type": "markdown",
   "id": "9f97ad7c-b6be-41f5-b578-6cff2f3f5ffa",
   "metadata": {},
   "source": [
    "# Importing Data"
   ]
  },
  {
   "cell_type": "markdown",
   "id": "96e8076c-3cd4-4a6e-9f65-fabc9e4a93aa",
   "metadata": {},
   "source": [
    "## Step 3 - Import analysis libraries and new customer data set as a dataframe."
   ]
  },
  {
   "cell_type": "code",
   "execution_count": 3,
   "id": "246719c2-2e6e-437b-b433-07ffa4baea6a",
   "metadata": {},
   "outputs": [],
   "source": [
    "# Creating path to project folder.\n",
    "\n",
    "path = r'C:\\Users\\TanaT\\(CF) Achievement 4 - Instacart Basket Analysis'"
   ]
  },
  {
   "cell_type": "code",
   "execution_count": 4,
   "id": "5463e162-8ab4-4343-86bf-c49eafd60e42",
   "metadata": {},
   "outputs": [],
   "source": [
    "# Importing new customers data. \n",
    "\n",
    "df_customers = pd.read_csv(os.path.join(path, '02 Data', 'Original Data', 'customers.csv'), index_col = False)"
   ]
  },
  {
   "cell_type": "code",
   "execution_count": 5,
   "id": "0d9773f8-0586-4f86-89e2-8e0a97940e77",
   "metadata": {},
   "outputs": [
    {
     "data": {
      "text/html": [
       "<div>\n",
       "<style scoped>\n",
       "    .dataframe tbody tr th:only-of-type {\n",
       "        vertical-align: middle;\n",
       "    }\n",
       "\n",
       "    .dataframe tbody tr th {\n",
       "        vertical-align: top;\n",
       "    }\n",
       "\n",
       "    .dataframe thead th {\n",
       "        text-align: right;\n",
       "    }\n",
       "</style>\n",
       "<table border=\"1\" class=\"dataframe\">\n",
       "  <thead>\n",
       "    <tr style=\"text-align: right;\">\n",
       "      <th></th>\n",
       "      <th>user_id</th>\n",
       "      <th>First Name</th>\n",
       "      <th>Surnam</th>\n",
       "      <th>Gender</th>\n",
       "      <th>STATE</th>\n",
       "      <th>Age</th>\n",
       "      <th>date_joined</th>\n",
       "      <th>n_dependants</th>\n",
       "      <th>fam_status</th>\n",
       "      <th>income</th>\n",
       "    </tr>\n",
       "  </thead>\n",
       "  <tbody>\n",
       "    <tr>\n",
       "      <th>0</th>\n",
       "      <td>26711</td>\n",
       "      <td>Deborah</td>\n",
       "      <td>Esquivel</td>\n",
       "      <td>Female</td>\n",
       "      <td>Missouri</td>\n",
       "      <td>48</td>\n",
       "      <td>1/1/2017</td>\n",
       "      <td>3</td>\n",
       "      <td>married</td>\n",
       "      <td>165665</td>\n",
       "    </tr>\n",
       "    <tr>\n",
       "      <th>1</th>\n",
       "      <td>33890</td>\n",
       "      <td>Patricia</td>\n",
       "      <td>Hart</td>\n",
       "      <td>Female</td>\n",
       "      <td>New Mexico</td>\n",
       "      <td>36</td>\n",
       "      <td>1/1/2017</td>\n",
       "      <td>0</td>\n",
       "      <td>single</td>\n",
       "      <td>59285</td>\n",
       "    </tr>\n",
       "    <tr>\n",
       "      <th>2</th>\n",
       "      <td>65803</td>\n",
       "      <td>Kenneth</td>\n",
       "      <td>Farley</td>\n",
       "      <td>Male</td>\n",
       "      <td>Idaho</td>\n",
       "      <td>35</td>\n",
       "      <td>1/1/2017</td>\n",
       "      <td>2</td>\n",
       "      <td>married</td>\n",
       "      <td>99568</td>\n",
       "    </tr>\n",
       "    <tr>\n",
       "      <th>3</th>\n",
       "      <td>125935</td>\n",
       "      <td>Michelle</td>\n",
       "      <td>Hicks</td>\n",
       "      <td>Female</td>\n",
       "      <td>Iowa</td>\n",
       "      <td>40</td>\n",
       "      <td>1/1/2017</td>\n",
       "      <td>0</td>\n",
       "      <td>single</td>\n",
       "      <td>42049</td>\n",
       "    </tr>\n",
       "    <tr>\n",
       "      <th>4</th>\n",
       "      <td>130797</td>\n",
       "      <td>Ann</td>\n",
       "      <td>Gilmore</td>\n",
       "      <td>Female</td>\n",
       "      <td>Maryland</td>\n",
       "      <td>26</td>\n",
       "      <td>1/1/2017</td>\n",
       "      <td>1</td>\n",
       "      <td>married</td>\n",
       "      <td>40374</td>\n",
       "    </tr>\n",
       "  </tbody>\n",
       "</table>\n",
       "</div>"
      ],
      "text/plain": [
       "   user_id First Name    Surnam  Gender       STATE  Age date_joined  \\\n",
       "0    26711    Deborah  Esquivel  Female    Missouri   48    1/1/2017   \n",
       "1    33890   Patricia      Hart  Female  New Mexico   36    1/1/2017   \n",
       "2    65803    Kenneth    Farley    Male       Idaho   35    1/1/2017   \n",
       "3   125935   Michelle     Hicks  Female        Iowa   40    1/1/2017   \n",
       "4   130797        Ann   Gilmore  Female    Maryland   26    1/1/2017   \n",
       "\n",
       "   n_dependants fam_status  income  \n",
       "0             3    married  165665  \n",
       "1             0     single   59285  \n",
       "2             2    married   99568  \n",
       "3             0     single   42049  \n",
       "4             1    married   40374  "
      ]
     },
     "execution_count": 5,
     "metadata": {},
     "output_type": "execute_result"
    }
   ],
   "source": [
    "# Checking dataframe - columns and types of data.\n",
    "\n",
    "df_customers.head()"
   ]
  },
  {
   "cell_type": "code",
   "execution_count": 6,
   "id": "7171fb02-844e-416d-919f-e60cefca2eef",
   "metadata": {},
   "outputs": [
    {
     "data": {
      "text/plain": [
       "(206209, 10)"
      ]
     },
     "execution_count": 6,
     "metadata": {},
     "output_type": "execute_result"
    }
   ],
   "source": [
    "# Checking shape.\n",
    "\n",
    "df_customers.shape"
   ]
  },
  {
   "cell_type": "code",
   "execution_count": 7,
   "id": "46b9c31e-cdaf-4417-9068-e46965916a5c",
   "metadata": {},
   "outputs": [
    {
     "name": "stdout",
     "output_type": "stream",
     "text": [
      "<class 'pandas.core.frame.DataFrame'>\n",
      "RangeIndex: 206209 entries, 0 to 206208\n",
      "Data columns (total 10 columns):\n",
      " #   Column        Non-Null Count   Dtype \n",
      "---  ------        --------------   ----- \n",
      " 0   user_id       206209 non-null  int64 \n",
      " 1   First Name    194950 non-null  object\n",
      " 2   Surnam        206209 non-null  object\n",
      " 3   Gender        206209 non-null  object\n",
      " 4   STATE         206209 non-null  object\n",
      " 5   Age           206209 non-null  int64 \n",
      " 6   date_joined   206209 non-null  object\n",
      " 7   n_dependants  206209 non-null  int64 \n",
      " 8   fam_status    206209 non-null  object\n",
      " 9   income        206209 non-null  int64 \n",
      "dtypes: int64(4), object(6)\n",
      "memory usage: 15.7+ MB\n"
     ]
    }
   ],
   "source": [
    "# Checking data types, possibly missing values. \n",
    "\n",
    "df_customers.info()"
   ]
  },
  {
   "cell_type": "markdown",
   "id": "fa71e113-47be-483f-b59c-fbf9dbf3dba9",
   "metadata": {},
   "source": [
    "Could have issues with first names. Looks like there are missing values."
   ]
  },
  {
   "cell_type": "markdown",
   "id": "89844088-8995-4f2a-9caa-5672e2e86c0e",
   "metadata": {},
   "source": [
    "## Step 4 - Wrangle the data so that it follows consistent logic. For example, rename columns and drop columns that don't add anything to your analysis."
   ]
  },
  {
   "cell_type": "markdown",
   "id": "aa8a3190-a4bb-4d84-99d2-e641b48a179c",
   "metadata": {},
   "source": [
    "### Data Wrangling - Renaming Columns"
   ]
  },
  {
   "cell_type": "code",
   "execution_count": 8,
   "id": "4d1e3111-f259-4d21-9432-f16f5153d8b6",
   "metadata": {},
   "outputs": [],
   "source": [
    "# Making column format consistent - changing all to lower case and changing any illogical names. \n",
    "\n",
    "df_customers.rename(columns = {'First Name':'first_name', 'Surnam':'last_name', 'Gender':'gender', 'STATE':'state', 'Age':'age'}, inplace=True)"
   ]
  },
  {
   "cell_type": "code",
   "execution_count": 9,
   "id": "3a5fea26-b4cd-458d-9b25-5ad31096cf3f",
   "metadata": {},
   "outputs": [
    {
     "data": {
      "text/plain": [
       "Index(['user_id', 'first_name', 'last_name', 'gender', 'state', 'age',\n",
       "       'date_joined', 'n_dependants', 'fam_status', 'income'],\n",
       "      dtype='object')"
      ]
     },
     "execution_count": 9,
     "metadata": {},
     "output_type": "execute_result"
    }
   ],
   "source": [
    "# Checking column names. \n",
    "\n",
    "df_customers.columns"
   ]
  },
  {
   "cell_type": "markdown",
   "id": "05350df1-04c9-4c90-a8c6-fd0fa5829504",
   "metadata": {},
   "source": [
    "### Data Wrangling - Changing Data Types"
   ]
  },
  {
   "cell_type": "code",
   "execution_count": 10,
   "id": "d4784b42-212a-4b7a-9739-25cbdeb2f718",
   "metadata": {},
   "outputs": [],
   "source": [
    "# Changing 'user_id' column data type from integer to object. \n",
    "\n",
    "df_customers['user_id'] = df_customers['user_id'].astype('str')"
   ]
  },
  {
   "cell_type": "code",
   "execution_count": 11,
   "id": "3974868a-ad3d-49c6-ad54-5474da55a7ab",
   "metadata": {},
   "outputs": [
    {
     "data": {
      "text/plain": [
       "dtype('O')"
      ]
     },
     "execution_count": 11,
     "metadata": {},
     "output_type": "execute_result"
    }
   ],
   "source": [
    "# Checking data type.\n",
    "\n",
    "df_customers['user_id'].dtype"
   ]
  },
  {
   "cell_type": "code",
   "execution_count": 12,
   "id": "619c34b1-22e4-4c6b-b7ee-7701f8d38c93",
   "metadata": {},
   "outputs": [
    {
     "data": {
      "text/html": [
       "<div>\n",
       "<style scoped>\n",
       "    .dataframe tbody tr th:only-of-type {\n",
       "        vertical-align: middle;\n",
       "    }\n",
       "\n",
       "    .dataframe tbody tr th {\n",
       "        vertical-align: top;\n",
       "    }\n",
       "\n",
       "    .dataframe thead th {\n",
       "        text-align: right;\n",
       "    }\n",
       "</style>\n",
       "<table border=\"1\" class=\"dataframe\">\n",
       "  <thead>\n",
       "    <tr style=\"text-align: right;\">\n",
       "      <th></th>\n",
       "      <th>user_id</th>\n",
       "      <th>first_name</th>\n",
       "      <th>last_name</th>\n",
       "      <th>gender</th>\n",
       "      <th>state</th>\n",
       "      <th>age</th>\n",
       "      <th>date_joined</th>\n",
       "      <th>n_dependants</th>\n",
       "      <th>fam_status</th>\n",
       "      <th>income</th>\n",
       "    </tr>\n",
       "  </thead>\n",
       "  <tbody>\n",
       "    <tr>\n",
       "      <th>0</th>\n",
       "      <td>26711</td>\n",
       "      <td>Deborah</td>\n",
       "      <td>Esquivel</td>\n",
       "      <td>Female</td>\n",
       "      <td>Missouri</td>\n",
       "      <td>48</td>\n",
       "      <td>1/1/2017</td>\n",
       "      <td>3</td>\n",
       "      <td>married</td>\n",
       "      <td>165665</td>\n",
       "    </tr>\n",
       "    <tr>\n",
       "      <th>1</th>\n",
       "      <td>33890</td>\n",
       "      <td>Patricia</td>\n",
       "      <td>Hart</td>\n",
       "      <td>Female</td>\n",
       "      <td>New Mexico</td>\n",
       "      <td>36</td>\n",
       "      <td>1/1/2017</td>\n",
       "      <td>0</td>\n",
       "      <td>single</td>\n",
       "      <td>59285</td>\n",
       "    </tr>\n",
       "    <tr>\n",
       "      <th>2</th>\n",
       "      <td>65803</td>\n",
       "      <td>Kenneth</td>\n",
       "      <td>Farley</td>\n",
       "      <td>Male</td>\n",
       "      <td>Idaho</td>\n",
       "      <td>35</td>\n",
       "      <td>1/1/2017</td>\n",
       "      <td>2</td>\n",
       "      <td>married</td>\n",
       "      <td>99568</td>\n",
       "    </tr>\n",
       "    <tr>\n",
       "      <th>3</th>\n",
       "      <td>125935</td>\n",
       "      <td>Michelle</td>\n",
       "      <td>Hicks</td>\n",
       "      <td>Female</td>\n",
       "      <td>Iowa</td>\n",
       "      <td>40</td>\n",
       "      <td>1/1/2017</td>\n",
       "      <td>0</td>\n",
       "      <td>single</td>\n",
       "      <td>42049</td>\n",
       "    </tr>\n",
       "    <tr>\n",
       "      <th>4</th>\n",
       "      <td>130797</td>\n",
       "      <td>Ann</td>\n",
       "      <td>Gilmore</td>\n",
       "      <td>Female</td>\n",
       "      <td>Maryland</td>\n",
       "      <td>26</td>\n",
       "      <td>1/1/2017</td>\n",
       "      <td>1</td>\n",
       "      <td>married</td>\n",
       "      <td>40374</td>\n",
       "    </tr>\n",
       "  </tbody>\n",
       "</table>\n",
       "</div>"
      ],
      "text/plain": [
       "  user_id first_name last_name  gender       state  age date_joined  \\\n",
       "0   26711    Deborah  Esquivel  Female    Missouri   48    1/1/2017   \n",
       "1   33890   Patricia      Hart  Female  New Mexico   36    1/1/2017   \n",
       "2   65803    Kenneth    Farley    Male       Idaho   35    1/1/2017   \n",
       "3  125935   Michelle     Hicks  Female        Iowa   40    1/1/2017   \n",
       "4  130797        Ann   Gilmore  Female    Maryland   26    1/1/2017   \n",
       "\n",
       "   n_dependants fam_status  income  \n",
       "0             3    married  165665  \n",
       "1             0     single   59285  \n",
       "2             2    married   99568  \n",
       "3             0     single   42049  \n",
       "4             1    married   40374  "
      ]
     },
     "execution_count": 12,
     "metadata": {},
     "output_type": "execute_result"
    }
   ],
   "source": [
    "# Checking dataframe after changes.\n",
    "\n",
    "df_customers.head()"
   ]
  },
  {
   "cell_type": "markdown",
   "id": "8cd125d7-a925-4a5b-bb83-ac89834ddbe6",
   "metadata": {},
   "source": [
    "### End of data wrangling - No dropped columns and no need to transpose dataframe. "
   ]
  },
  {
   "cell_type": "markdown",
   "id": "35ce5a86-85b1-4ae0-b434-79439a2c3a03",
   "metadata": {},
   "source": [
    "## Step 5 - Complete the fundamental data quality and consistency checks. For example, check for and address missing values and duplicates, and convert any mixed-type data. "
   ]
  },
  {
   "cell_type": "markdown",
   "id": "f2ef66fe-6f77-4c96-89c0-dc3de84965c1",
   "metadata": {},
   "source": [
    "### Checking dataframe for missing values."
   ]
  },
  {
   "cell_type": "code",
   "execution_count": 13,
   "id": "55ec5088-771b-4200-9c6c-4ba8c47e0e3e",
   "metadata": {},
   "outputs": [
    {
     "data": {
      "text/plain": [
       "user_id             0\n",
       "first_name      11259\n",
       "last_name           0\n",
       "gender              0\n",
       "state               0\n",
       "age                 0\n",
       "date_joined         0\n",
       "n_dependants        0\n",
       "fam_status          0\n",
       "income              0\n",
       "dtype: int64"
      ]
     },
     "execution_count": 13,
     "metadata": {},
     "output_type": "execute_result"
    }
   ],
   "source": [
    "# Checking entire dataframe for any missing values. \n",
    "\n",
    "df_customers.isnull().sum()"
   ]
  },
  {
   "cell_type": "markdown",
   "id": "1756aeb6-4e1f-4e01-b867-7db49d15475c",
   "metadata": {},
   "source": [
    "### Checking for Mixed-Type Columns"
   ]
  },
  {
   "cell_type": "code",
   "execution_count": 14,
   "id": "564a6f9b-f0cf-40f0-b717-df59082ed8a7",
   "metadata": {},
   "outputs": [
    {
     "name": "stdout",
     "output_type": "stream",
     "text": [
      "first_name\n"
     ]
    }
   ],
   "source": [
    "# Checking for any mixed-type columns first, before addressing these possibly missing values.  \n",
    "\n",
    "for col in df_customers.columns.tolist():\n",
    "  weird = (df_customers[[col]].map(type) != df_customers[[col]].iloc[0].apply(type)).any(axis = 1)\n",
    "  if len (df_customers[weird]) > 0:\n",
    "    print (col)"
   ]
  },
  {
   "cell_type": "code",
   "execution_count": 15,
   "id": "abebea1b-2dc5-40a9-a08d-d98dbc41bafd",
   "metadata": {},
   "outputs": [
    {
     "data": {
      "text/plain": [
       "0         Deborah\n",
       "1        Patricia\n",
       "2         Kenneth\n",
       "3        Michelle\n",
       "4             Ann\n",
       "5         Cynthia\n",
       "6           Chris\n",
       "7          Joseph\n",
       "8          Jeremy\n",
       "9           Shawn\n",
       "10         Gloria\n",
       "11          Roger\n",
       "12        Cynthia\n",
       "13      Stephanie\n",
       "14          Peter\n",
       "15        Brandon\n",
       "16            Amy\n",
       "17          Brian\n",
       "18         Victor\n",
       "19        Patrick\n",
       "20          Randy\n",
       "21          Wanda\n",
       "22         Sandra\n",
       "23         Martha\n",
       "24          Shawn\n",
       "25          Wayne\n",
       "26        Charles\n",
       "27           Ruth\n",
       "28       Kimberly\n",
       "29       Kimberly\n",
       "30          Steve\n",
       "31           Carl\n",
       "32       Nicholas\n",
       "33        Stephen\n",
       "34           Lisa\n",
       "35           Judy\n",
       "36          Doris\n",
       "37        Barbara\n",
       "38           Adam\n",
       "39          Terry\n",
       "40          Marie\n",
       "41        Rebecca\n",
       "42        Lillian\n",
       "43        Kathryn\n",
       "44        Shirley\n",
       "45        Douglas\n",
       "46    Christopher\n",
       "47        Brandon\n",
       "48          Craig\n",
       "49          Jimmy\n",
       "Name: first_name, dtype: object"
      ]
     },
     "execution_count": 15,
     "metadata": {},
     "output_type": "execute_result"
    }
   ],
   "source": [
    "# When previously checked using .info(), the data type for 'first_name' appeared to be 'object', but now know this is a mixed-type column.\n",
    "\n",
    "df_customers['first_name'].head(50)"
   ]
  },
  {
   "cell_type": "code",
   "execution_count": 16,
   "id": "8d1bb1c2-57dc-4c05-9f25-7f2cdcaea827",
   "metadata": {},
   "outputs": [],
   "source": [
    "# Didn't see anything strange in the first 50 rows, but changing the 'first_name' column to be a string (since it shouldn't contain numbers).\n",
    "\n",
    "df_customers['first_name'] = df_customers['first_name'].astype('str')"
   ]
  },
  {
   "cell_type": "code",
   "execution_count": 17,
   "id": "f86c9d49-3513-4ee8-9856-f2617fc320d6",
   "metadata": {},
   "outputs": [
    {
     "data": {
      "text/plain": [
       "dtype('O')"
      ]
     },
     "execution_count": 17,
     "metadata": {},
     "output_type": "execute_result"
    }
   ],
   "source": [
    "df_customers['first_name'].dtype"
   ]
  },
  {
   "cell_type": "code",
   "execution_count": 18,
   "id": "f2f9c4ce-a277-4f16-a7b2-250d9c15dbfc",
   "metadata": {},
   "outputs": [],
   "source": [
    "# Checking the dataframe again for any mixed-type columns and checking if the change was successful. \n",
    "\n",
    "for col in df_customers.columns.tolist():\n",
    "  weird = (df_customers[[col]].map(type) != df_customers[[col]].iloc[0].apply(type)).any(axis = 1)\n",
    "  if len (df_customers[weird]) > 0:\n",
    "    print (col)"
   ]
  },
  {
   "cell_type": "markdown",
   "id": "68c52898-14f4-4619-ba4a-b6260a6541a4",
   "metadata": {},
   "source": [
    "No mixed-type columns found in second round of checks. "
   ]
  },
  {
   "cell_type": "markdown",
   "id": "c35cf3b0-e670-4a38-8fa7-72b620f93882",
   "metadata": {},
   "source": [
    "### Addressing Missing Values"
   ]
  },
  {
   "cell_type": "code",
   "execution_count": 20,
   "id": "fdb920ce-a326-4493-b23b-68325d52808e",
   "metadata": {},
   "outputs": [
    {
     "data": {
      "text/plain": [
       "user_id         0\n",
       "first_name      0\n",
       "last_name       0\n",
       "gender          0\n",
       "state           0\n",
       "age             0\n",
       "date_joined     0\n",
       "n_dependants    0\n",
       "fam_status      0\n",
       "income          0\n",
       "dtype: int64"
      ]
     },
     "execution_count": 20,
     "metadata": {},
     "output_type": "execute_result"
    }
   ],
   "source": [
    "# Checking for missing values again. \n",
    "\n",
    "df_customers.isnull().sum()"
   ]
  },
  {
   "cell_type": "markdown",
   "id": "2c4aaa1c-db7b-40a7-9718-dc152bc8097b",
   "metadata": {},
   "source": [
    "No missing values found after fixing the mixed-type column."
   ]
  },
  {
   "cell_type": "code",
   "execution_count": 21,
   "id": "ba1de138-b868-4acb-96c3-bdf561ba2163",
   "metadata": {},
   "outputs": [
    {
     "data": {
      "text/html": [
       "<div>\n",
       "<style scoped>\n",
       "    .dataframe tbody tr th:only-of-type {\n",
       "        vertical-align: middle;\n",
       "    }\n",
       "\n",
       "    .dataframe tbody tr th {\n",
       "        vertical-align: top;\n",
       "    }\n",
       "\n",
       "    .dataframe thead th {\n",
       "        text-align: right;\n",
       "    }\n",
       "</style>\n",
       "<table border=\"1\" class=\"dataframe\">\n",
       "  <thead>\n",
       "    <tr style=\"text-align: right;\">\n",
       "      <th></th>\n",
       "      <th>age</th>\n",
       "      <th>n_dependants</th>\n",
       "      <th>income</th>\n",
       "    </tr>\n",
       "  </thead>\n",
       "  <tbody>\n",
       "    <tr>\n",
       "      <th>count</th>\n",
       "      <td>206209.000000</td>\n",
       "      <td>206209.000000</td>\n",
       "      <td>206209.000000</td>\n",
       "    </tr>\n",
       "    <tr>\n",
       "      <th>mean</th>\n",
       "      <td>49.501646</td>\n",
       "      <td>1.499823</td>\n",
       "      <td>94632.852548</td>\n",
       "    </tr>\n",
       "    <tr>\n",
       "      <th>std</th>\n",
       "      <td>18.480962</td>\n",
       "      <td>1.118433</td>\n",
       "      <td>42473.786988</td>\n",
       "    </tr>\n",
       "    <tr>\n",
       "      <th>min</th>\n",
       "      <td>18.000000</td>\n",
       "      <td>0.000000</td>\n",
       "      <td>25903.000000</td>\n",
       "    </tr>\n",
       "    <tr>\n",
       "      <th>25%</th>\n",
       "      <td>33.000000</td>\n",
       "      <td>0.000000</td>\n",
       "      <td>59874.000000</td>\n",
       "    </tr>\n",
       "    <tr>\n",
       "      <th>50%</th>\n",
       "      <td>49.000000</td>\n",
       "      <td>1.000000</td>\n",
       "      <td>93547.000000</td>\n",
       "    </tr>\n",
       "    <tr>\n",
       "      <th>75%</th>\n",
       "      <td>66.000000</td>\n",
       "      <td>3.000000</td>\n",
       "      <td>124244.000000</td>\n",
       "    </tr>\n",
       "    <tr>\n",
       "      <th>max</th>\n",
       "      <td>81.000000</td>\n",
       "      <td>3.000000</td>\n",
       "      <td>593901.000000</td>\n",
       "    </tr>\n",
       "  </tbody>\n",
       "</table>\n",
       "</div>"
      ],
      "text/plain": [
       "                 age   n_dependants         income\n",
       "count  206209.000000  206209.000000  206209.000000\n",
       "mean       49.501646       1.499823   94632.852548\n",
       "std        18.480962       1.118433   42473.786988\n",
       "min        18.000000       0.000000   25903.000000\n",
       "25%        33.000000       0.000000   59874.000000\n",
       "50%        49.000000       1.000000   93547.000000\n",
       "75%        66.000000       3.000000  124244.000000\n",
       "max        81.000000       3.000000  593901.000000"
      ]
     },
     "execution_count": 21,
     "metadata": {},
     "output_type": "execute_result"
    }
   ],
   "source": [
    "# Checking basic statistics. \n",
    "\n",
    "df_customers.describe()"
   ]
  },
  {
   "cell_type": "markdown",
   "id": "1f9ba12a-54a0-43d3-82d4-8adaa7bdb100",
   "metadata": {},
   "source": [
    "These numbers look reasonable/plausible, no value seems to be extreme. "
   ]
  },
  {
   "cell_type": "markdown",
   "id": "f75a76d7-8fbf-47a6-9ab7-d60ad20855eb",
   "metadata": {},
   "source": [
    "### Checking for Duplicates"
   ]
  },
  {
   "cell_type": "code",
   "execution_count": 22,
   "id": "eca0d9e3-c848-4629-938f-4d898eb3adc0",
   "metadata": {},
   "outputs": [],
   "source": [
    "# Checking entire dataframe for any duplicates.\n",
    "# Making a new dataframe that only contains any duplicates. \n",
    "\n",
    "df_dups = df_customers[df_customers.duplicated()]"
   ]
  },
  {
   "cell_type": "code",
   "execution_count": 23,
   "id": "8491c4c2-353b-407d-9765-8ed25721feb7",
   "metadata": {},
   "outputs": [
    {
     "data": {
      "text/html": [
       "<div>\n",
       "<style scoped>\n",
       "    .dataframe tbody tr th:only-of-type {\n",
       "        vertical-align: middle;\n",
       "    }\n",
       "\n",
       "    .dataframe tbody tr th {\n",
       "        vertical-align: top;\n",
       "    }\n",
       "\n",
       "    .dataframe thead th {\n",
       "        text-align: right;\n",
       "    }\n",
       "</style>\n",
       "<table border=\"1\" class=\"dataframe\">\n",
       "  <thead>\n",
       "    <tr style=\"text-align: right;\">\n",
       "      <th></th>\n",
       "      <th>user_id</th>\n",
       "      <th>first_name</th>\n",
       "      <th>last_name</th>\n",
       "      <th>gender</th>\n",
       "      <th>state</th>\n",
       "      <th>age</th>\n",
       "      <th>date_joined</th>\n",
       "      <th>n_dependants</th>\n",
       "      <th>fam_status</th>\n",
       "      <th>income</th>\n",
       "    </tr>\n",
       "  </thead>\n",
       "  <tbody>\n",
       "  </tbody>\n",
       "</table>\n",
       "</div>"
      ],
      "text/plain": [
       "Empty DataFrame\n",
       "Columns: [user_id, first_name, last_name, gender, state, age, date_joined, n_dependants, fam_status, income]\n",
       "Index: []"
      ]
     },
     "execution_count": 23,
     "metadata": {},
     "output_type": "execute_result"
    }
   ],
   "source": [
    "df_dups"
   ]
  },
  {
   "cell_type": "markdown",
   "id": "5122647f-9002-4429-96a1-0b8c4b9001c5",
   "metadata": {},
   "source": [
    "No duplicates in any of the columns were found/none to fix."
   ]
  },
  {
   "cell_type": "markdown",
   "id": "dd4c354c-a4f3-41a5-aba0-292680ea3756",
   "metadata": {},
   "source": [
    "### End of data consistency checks"
   ]
  },
  {
   "cell_type": "markdown",
   "id": "46e70f27-fa7a-49a8-b8ed-d97950bd3f0c",
   "metadata": {},
   "source": [
    "## Step 6 - Combine your customer data with the rest of your prepared Instacart data."
   ]
  },
  {
   "cell_type": "code",
   "execution_count": 25,
   "id": "792061eb-b909-44e9-a011-3fc67a2644b4",
   "metadata": {},
   "outputs": [],
   "source": [
    "# Importing merged data.\n",
    "\n",
    "df_ords_prods_merge = pd.read_pickle(os.path.join(path, '02 Data','Prepared Data', 'updated_grouped_agg_orders_products_merged.pkl'))"
   ]
  },
  {
   "cell_type": "code",
   "execution_count": 26,
   "id": "b6432047-31d6-455c-9895-b31d9c01ce9d",
   "metadata": {},
   "outputs": [
    {
     "data": {
      "text/html": [
       "<div>\n",
       "<style scoped>\n",
       "    .dataframe tbody tr th:only-of-type {\n",
       "        vertical-align: middle;\n",
       "    }\n",
       "\n",
       "    .dataframe tbody tr th {\n",
       "        vertical-align: top;\n",
       "    }\n",
       "\n",
       "    .dataframe thead th {\n",
       "        text-align: right;\n",
       "    }\n",
       "</style>\n",
       "<table border=\"1\" class=\"dataframe\">\n",
       "  <thead>\n",
       "    <tr style=\"text-align: right;\">\n",
       "      <th></th>\n",
       "      <th>product_id</th>\n",
       "      <th>product_name</th>\n",
       "      <th>aisle_id</th>\n",
       "      <th>department_id</th>\n",
       "      <th>prices</th>\n",
       "      <th>order_id</th>\n",
       "      <th>user_id</th>\n",
       "      <th>order_number</th>\n",
       "      <th>orders_day_of_week</th>\n",
       "      <th>order_hour_of_day</th>\n",
       "      <th>...</th>\n",
       "      <th>price_range_loc</th>\n",
       "      <th>busiest_day</th>\n",
       "      <th>busiest_days</th>\n",
       "      <th>busiest_period_of_day</th>\n",
       "      <th>max_order</th>\n",
       "      <th>loyalty_flag</th>\n",
       "      <th>avg_product_price</th>\n",
       "      <th>spending_flag</th>\n",
       "      <th>median_days_between_orders</th>\n",
       "      <th>ordering_behavior_flag</th>\n",
       "    </tr>\n",
       "  </thead>\n",
       "  <tbody>\n",
       "    <tr>\n",
       "      <th>0</th>\n",
       "      <td>1</td>\n",
       "      <td>Chocolate Sandwich Cookies</td>\n",
       "      <td>61</td>\n",
       "      <td>19</td>\n",
       "      <td>5.8</td>\n",
       "      <td>3139998</td>\n",
       "      <td>138</td>\n",
       "      <td>28</td>\n",
       "      <td>6</td>\n",
       "      <td>11</td>\n",
       "      <td>...</td>\n",
       "      <td>Mid-range product</td>\n",
       "      <td>Regular busy</td>\n",
       "      <td>Regularly busy</td>\n",
       "      <td>Most orders</td>\n",
       "      <td>32</td>\n",
       "      <td>Regular customer</td>\n",
       "      <td>6.935811</td>\n",
       "      <td>Low spender</td>\n",
       "      <td>8.0</td>\n",
       "      <td>Frequent customer</td>\n",
       "    </tr>\n",
       "    <tr>\n",
       "      <th>1</th>\n",
       "      <td>1</td>\n",
       "      <td>Chocolate Sandwich Cookies</td>\n",
       "      <td>61</td>\n",
       "      <td>19</td>\n",
       "      <td>5.8</td>\n",
       "      <td>1977647</td>\n",
       "      <td>138</td>\n",
       "      <td>30</td>\n",
       "      <td>6</td>\n",
       "      <td>17</td>\n",
       "      <td>...</td>\n",
       "      <td>Mid-range product</td>\n",
       "      <td>Regular busy</td>\n",
       "      <td>Regularly busy</td>\n",
       "      <td>Average orders</td>\n",
       "      <td>32</td>\n",
       "      <td>Regular customer</td>\n",
       "      <td>6.935811</td>\n",
       "      <td>Low spender</td>\n",
       "      <td>8.0</td>\n",
       "      <td>Frequent customer</td>\n",
       "    </tr>\n",
       "    <tr>\n",
       "      <th>2</th>\n",
       "      <td>1</td>\n",
       "      <td>Chocolate Sandwich Cookies</td>\n",
       "      <td>61</td>\n",
       "      <td>19</td>\n",
       "      <td>5.8</td>\n",
       "      <td>389851</td>\n",
       "      <td>709</td>\n",
       "      <td>2</td>\n",
       "      <td>0</td>\n",
       "      <td>21</td>\n",
       "      <td>...</td>\n",
       "      <td>Mid-range product</td>\n",
       "      <td>Busiest day</td>\n",
       "      <td>Busiest days</td>\n",
       "      <td>Average orders</td>\n",
       "      <td>5</td>\n",
       "      <td>New customer</td>\n",
       "      <td>7.930208</td>\n",
       "      <td>Low spender</td>\n",
       "      <td>8.0</td>\n",
       "      <td>Frequent customer</td>\n",
       "    </tr>\n",
       "    <tr>\n",
       "      <th>3</th>\n",
       "      <td>1</td>\n",
       "      <td>Chocolate Sandwich Cookies</td>\n",
       "      <td>61</td>\n",
       "      <td>19</td>\n",
       "      <td>5.8</td>\n",
       "      <td>652770</td>\n",
       "      <td>764</td>\n",
       "      <td>1</td>\n",
       "      <td>3</td>\n",
       "      <td>13</td>\n",
       "      <td>...</td>\n",
       "      <td>Mid-range product</td>\n",
       "      <td>Regular busy</td>\n",
       "      <td>Slowest days</td>\n",
       "      <td>Most orders</td>\n",
       "      <td>3</td>\n",
       "      <td>New customer</td>\n",
       "      <td>4.972414</td>\n",
       "      <td>Low spender</td>\n",
       "      <td>9.0</td>\n",
       "      <td>Frequent customer</td>\n",
       "    </tr>\n",
       "    <tr>\n",
       "      <th>4</th>\n",
       "      <td>1</td>\n",
       "      <td>Chocolate Sandwich Cookies</td>\n",
       "      <td>61</td>\n",
       "      <td>19</td>\n",
       "      <td>5.8</td>\n",
       "      <td>1813452</td>\n",
       "      <td>764</td>\n",
       "      <td>3</td>\n",
       "      <td>4</td>\n",
       "      <td>17</td>\n",
       "      <td>...</td>\n",
       "      <td>Mid-range product</td>\n",
       "      <td>Least busy</td>\n",
       "      <td>Slowest days</td>\n",
       "      <td>Average orders</td>\n",
       "      <td>3</td>\n",
       "      <td>New customer</td>\n",
       "      <td>4.972414</td>\n",
       "      <td>Low spender</td>\n",
       "      <td>9.0</td>\n",
       "      <td>Frequent customer</td>\n",
       "    </tr>\n",
       "  </tbody>\n",
       "</table>\n",
       "<p>5 rows × 24 columns</p>\n",
       "</div>"
      ],
      "text/plain": [
       "   product_id                product_name  aisle_id  department_id  prices  \\\n",
       "0           1  Chocolate Sandwich Cookies        61             19     5.8   \n",
       "1           1  Chocolate Sandwich Cookies        61             19     5.8   \n",
       "2           1  Chocolate Sandwich Cookies        61             19     5.8   \n",
       "3           1  Chocolate Sandwich Cookies        61             19     5.8   \n",
       "4           1  Chocolate Sandwich Cookies        61             19     5.8   \n",
       "\n",
       "   order_id  user_id  order_number  orders_day_of_week  order_hour_of_day  \\\n",
       "0   3139998      138            28                   6                 11   \n",
       "1   1977647      138            30                   6                 17   \n",
       "2    389851      709             2                   0                 21   \n",
       "3    652770      764             1                   3                 13   \n",
       "4   1813452      764             3                   4                 17   \n",
       "\n",
       "   ...    price_range_loc   busiest_day    busiest_days busiest_period_of_day  \\\n",
       "0  ...  Mid-range product  Regular busy  Regularly busy           Most orders   \n",
       "1  ...  Mid-range product  Regular busy  Regularly busy        Average orders   \n",
       "2  ...  Mid-range product   Busiest day    Busiest days        Average orders   \n",
       "3  ...  Mid-range product  Regular busy    Slowest days           Most orders   \n",
       "4  ...  Mid-range product    Least busy    Slowest days        Average orders   \n",
       "\n",
       "  max_order      loyalty_flag avg_product_price spending_flag  \\\n",
       "0        32  Regular customer          6.935811   Low spender   \n",
       "1        32  Regular customer          6.935811   Low spender   \n",
       "2         5      New customer          7.930208   Low spender   \n",
       "3         3      New customer          4.972414   Low spender   \n",
       "4         3      New customer          4.972414   Low spender   \n",
       "\n",
       "   median_days_between_orders ordering_behavior_flag  \n",
       "0                         8.0      Frequent customer  \n",
       "1                         8.0      Frequent customer  \n",
       "2                         8.0      Frequent customer  \n",
       "3                         9.0      Frequent customer  \n",
       "4                         9.0      Frequent customer  \n",
       "\n",
       "[5 rows x 24 columns]"
      ]
     },
     "execution_count": 26,
     "metadata": {},
     "output_type": "execute_result"
    }
   ],
   "source": [
    "# Checking the dataframe to see which column to merge on. \n",
    "\n",
    "df_ords_prods_merge.head()"
   ]
  },
  {
   "cell_type": "markdown",
   "id": "864573c5-f940-4de7-90ab-a13602014904",
   "metadata": {},
   "source": [
    " - Both dataframes contain 'user_id' column. Will use this to merge/combine the customer and merged dataframe.\n",
    " - Merge will be used because the two dataframes are not the same size and they share a common column."
   ]
  },
  {
   "cell_type": "markdown",
   "id": "bdba04d4-6ea7-43e5-a528-c32fec7f46ca",
   "metadata": {},
   "source": [
    "### Checking 'user_id' Column in Both Dataframes."
   ]
  },
  {
   "cell_type": "markdown",
   "id": "a3af35ef-a202-44fb-b1a8-45450b920fd7",
   "metadata": {},
   "source": [
    "#### Checking and Addressing Data Types"
   ]
  },
  {
   "cell_type": "code",
   "execution_count": 27,
   "id": "9482282c-ac2d-4a38-98b6-339e55848b43",
   "metadata": {},
   "outputs": [
    {
     "data": {
      "text/plain": [
       "dtype('int64')"
      ]
     },
     "execution_count": 27,
     "metadata": {},
     "output_type": "execute_result"
    }
   ],
   "source": [
    "df_ords_prods_merge['user_id'].dtype"
   ]
  },
  {
   "cell_type": "code",
   "execution_count": 28,
   "id": "63d86cf9-a328-469a-86d4-b62f94a3cc3e",
   "metadata": {},
   "outputs": [],
   "source": [
    "# Need to change the data type to match the data type in customer data. \n",
    "# Changing 'user_id' data type from integer to string to match customer data. \n",
    "\n",
    "df_ords_prods_merge['user_id'] = df_ords_prods_merge['user_id'].astype('str')"
   ]
  },
  {
   "cell_type": "code",
   "execution_count": 29,
   "id": "dbd1c575-96ba-475b-bb0f-06c431ba50eb",
   "metadata": {},
   "outputs": [
    {
     "data": {
      "text/plain": [
       "dtype('O')"
      ]
     },
     "execution_count": 29,
     "metadata": {},
     "output_type": "execute_result"
    }
   ],
   "source": [
    "df_ords_prods_merge['user_id'].dtype"
   ]
  },
  {
   "cell_type": "code",
   "execution_count": 30,
   "id": "a2a5ccd7-098b-44f0-9b1d-24af82ffa886",
   "metadata": {},
   "outputs": [
    {
     "data": {
      "text/plain": [
       "dtype('O')"
      ]
     },
     "execution_count": 30,
     "metadata": {},
     "output_type": "execute_result"
    }
   ],
   "source": [
    "df_customers['user_id'].dtype"
   ]
  },
  {
   "cell_type": "markdown",
   "id": "63e8f356-9ffd-412e-80de-ee1ddabc79e2",
   "metadata": {},
   "source": [
    "#### Checking number of values in the 'user_id' column for both dataframes. "
   ]
  },
  {
   "cell_type": "code",
   "execution_count": 31,
   "id": "1925ce04-8db6-4158-80a4-e3fda5db0e23",
   "metadata": {},
   "outputs": [
    {
     "data": {
      "text/plain": [
       "206209"
      ]
     },
     "execution_count": 31,
     "metadata": {},
     "output_type": "execute_result"
    }
   ],
   "source": [
    "df_customers['user_id'].nunique()"
   ]
  },
  {
   "cell_type": "code",
   "execution_count": 32,
   "id": "5ea067d6-c888-4aea-9f86-c8788dbe1052",
   "metadata": {},
   "outputs": [
    {
     "data": {
      "text/plain": [
       "206209"
      ]
     },
     "execution_count": 32,
     "metadata": {},
     "output_type": "execute_result"
    }
   ],
   "source": [
    "df_ords_prods_merge['user_id'].nunique()"
   ]
  },
  {
   "cell_type": "markdown",
   "id": "87c411a6-3f84-4e61-94e7-27c08acc1cd8",
   "metadata": {},
   "source": [
    "### Merging Data"
   ]
  },
  {
   "cell_type": "code",
   "execution_count": 33,
   "id": "eed66b30-a978-449b-8faf-0afa061aeb9c",
   "metadata": {},
   "outputs": [],
   "source": [
    "# Merging data on common column ('user_id').\n",
    "\n",
    "df_cust_merge = df_ords_prods_merge.merge(df_customers, on = 'user_id', indicator = 'merge_status')"
   ]
  },
  {
   "cell_type": "code",
   "execution_count": 34,
   "id": "15657165-aa5a-4c13-8710-04ca35fd4e61",
   "metadata": {},
   "outputs": [
    {
     "data": {
      "text/html": [
       "<div>\n",
       "<style scoped>\n",
       "    .dataframe tbody tr th:only-of-type {\n",
       "        vertical-align: middle;\n",
       "    }\n",
       "\n",
       "    .dataframe tbody tr th {\n",
       "        vertical-align: top;\n",
       "    }\n",
       "\n",
       "    .dataframe thead th {\n",
       "        text-align: right;\n",
       "    }\n",
       "</style>\n",
       "<table border=\"1\" class=\"dataframe\">\n",
       "  <thead>\n",
       "    <tr style=\"text-align: right;\">\n",
       "      <th></th>\n",
       "      <th>product_id</th>\n",
       "      <th>product_name</th>\n",
       "      <th>aisle_id</th>\n",
       "      <th>department_id</th>\n",
       "      <th>prices</th>\n",
       "      <th>order_id</th>\n",
       "      <th>user_id</th>\n",
       "      <th>order_number</th>\n",
       "      <th>orders_day_of_week</th>\n",
       "      <th>order_hour_of_day</th>\n",
       "      <th>...</th>\n",
       "      <th>first_name</th>\n",
       "      <th>last_name</th>\n",
       "      <th>gender</th>\n",
       "      <th>state</th>\n",
       "      <th>age</th>\n",
       "      <th>date_joined</th>\n",
       "      <th>n_dependants</th>\n",
       "      <th>fam_status</th>\n",
       "      <th>income</th>\n",
       "      <th>merge_status</th>\n",
       "    </tr>\n",
       "  </thead>\n",
       "  <tbody>\n",
       "    <tr>\n",
       "      <th>0</th>\n",
       "      <td>1</td>\n",
       "      <td>Chocolate Sandwich Cookies</td>\n",
       "      <td>61</td>\n",
       "      <td>19</td>\n",
       "      <td>5.8</td>\n",
       "      <td>3139998</td>\n",
       "      <td>138</td>\n",
       "      <td>28</td>\n",
       "      <td>6</td>\n",
       "      <td>11</td>\n",
       "      <td>...</td>\n",
       "      <td>Charles</td>\n",
       "      <td>Cox</td>\n",
       "      <td>Male</td>\n",
       "      <td>Minnesota</td>\n",
       "      <td>81</td>\n",
       "      <td>8/1/2019</td>\n",
       "      <td>1</td>\n",
       "      <td>married</td>\n",
       "      <td>49620</td>\n",
       "      <td>both</td>\n",
       "    </tr>\n",
       "    <tr>\n",
       "      <th>1</th>\n",
       "      <td>1</td>\n",
       "      <td>Chocolate Sandwich Cookies</td>\n",
       "      <td>61</td>\n",
       "      <td>19</td>\n",
       "      <td>5.8</td>\n",
       "      <td>1977647</td>\n",
       "      <td>138</td>\n",
       "      <td>30</td>\n",
       "      <td>6</td>\n",
       "      <td>17</td>\n",
       "      <td>...</td>\n",
       "      <td>Charles</td>\n",
       "      <td>Cox</td>\n",
       "      <td>Male</td>\n",
       "      <td>Minnesota</td>\n",
       "      <td>81</td>\n",
       "      <td>8/1/2019</td>\n",
       "      <td>1</td>\n",
       "      <td>married</td>\n",
       "      <td>49620</td>\n",
       "      <td>both</td>\n",
       "    </tr>\n",
       "    <tr>\n",
       "      <th>2</th>\n",
       "      <td>1</td>\n",
       "      <td>Chocolate Sandwich Cookies</td>\n",
       "      <td>61</td>\n",
       "      <td>19</td>\n",
       "      <td>5.8</td>\n",
       "      <td>389851</td>\n",
       "      <td>709</td>\n",
       "      <td>2</td>\n",
       "      <td>0</td>\n",
       "      <td>21</td>\n",
       "      <td>...</td>\n",
       "      <td>Deborah</td>\n",
       "      <td>Glass</td>\n",
       "      <td>Female</td>\n",
       "      <td>Vermont</td>\n",
       "      <td>66</td>\n",
       "      <td>6/16/2018</td>\n",
       "      <td>2</td>\n",
       "      <td>married</td>\n",
       "      <td>158302</td>\n",
       "      <td>both</td>\n",
       "    </tr>\n",
       "    <tr>\n",
       "      <th>3</th>\n",
       "      <td>1</td>\n",
       "      <td>Chocolate Sandwich Cookies</td>\n",
       "      <td>61</td>\n",
       "      <td>19</td>\n",
       "      <td>5.8</td>\n",
       "      <td>652770</td>\n",
       "      <td>764</td>\n",
       "      <td>1</td>\n",
       "      <td>3</td>\n",
       "      <td>13</td>\n",
       "      <td>...</td>\n",
       "      <td>Heather</td>\n",
       "      <td>Myers</td>\n",
       "      <td>Female</td>\n",
       "      <td>Wisconsin</td>\n",
       "      <td>40</td>\n",
       "      <td>2/9/2020</td>\n",
       "      <td>3</td>\n",
       "      <td>married</td>\n",
       "      <td>31308</td>\n",
       "      <td>both</td>\n",
       "    </tr>\n",
       "    <tr>\n",
       "      <th>4</th>\n",
       "      <td>1</td>\n",
       "      <td>Chocolate Sandwich Cookies</td>\n",
       "      <td>61</td>\n",
       "      <td>19</td>\n",
       "      <td>5.8</td>\n",
       "      <td>1813452</td>\n",
       "      <td>764</td>\n",
       "      <td>3</td>\n",
       "      <td>4</td>\n",
       "      <td>17</td>\n",
       "      <td>...</td>\n",
       "      <td>Heather</td>\n",
       "      <td>Myers</td>\n",
       "      <td>Female</td>\n",
       "      <td>Wisconsin</td>\n",
       "      <td>40</td>\n",
       "      <td>2/9/2020</td>\n",
       "      <td>3</td>\n",
       "      <td>married</td>\n",
       "      <td>31308</td>\n",
       "      <td>both</td>\n",
       "    </tr>\n",
       "  </tbody>\n",
       "</table>\n",
       "<p>5 rows × 34 columns</p>\n",
       "</div>"
      ],
      "text/plain": [
       "   product_id                product_name  aisle_id  department_id  prices  \\\n",
       "0           1  Chocolate Sandwich Cookies        61             19     5.8   \n",
       "1           1  Chocolate Sandwich Cookies        61             19     5.8   \n",
       "2           1  Chocolate Sandwich Cookies        61             19     5.8   \n",
       "3           1  Chocolate Sandwich Cookies        61             19     5.8   \n",
       "4           1  Chocolate Sandwich Cookies        61             19     5.8   \n",
       "\n",
       "   order_id user_id  order_number  orders_day_of_week  order_hour_of_day  ...  \\\n",
       "0   3139998     138            28                   6                 11  ...   \n",
       "1   1977647     138            30                   6                 17  ...   \n",
       "2    389851     709             2                   0                 21  ...   \n",
       "3    652770     764             1                   3                 13  ...   \n",
       "4   1813452     764             3                   4                 17  ...   \n",
       "\n",
       "   first_name  last_name  gender      state age date_joined n_dependants  \\\n",
       "0     Charles        Cox    Male  Minnesota  81    8/1/2019            1   \n",
       "1     Charles        Cox    Male  Minnesota  81    8/1/2019            1   \n",
       "2     Deborah      Glass  Female    Vermont  66   6/16/2018            2   \n",
       "3     Heather      Myers  Female  Wisconsin  40    2/9/2020            3   \n",
       "4     Heather      Myers  Female  Wisconsin  40    2/9/2020            3   \n",
       "\n",
       "  fam_status  income merge_status  \n",
       "0    married   49620         both  \n",
       "1    married   49620         both  \n",
       "2    married  158302         both  \n",
       "3    married   31308         both  \n",
       "4    married   31308         both  \n",
       "\n",
       "[5 rows x 34 columns]"
      ]
     },
     "execution_count": 34,
     "metadata": {},
     "output_type": "execute_result"
    }
   ],
   "source": [
    "df_cust_merge.head()"
   ]
  },
  {
   "cell_type": "code",
   "execution_count": 35,
   "id": "11da439e-846e-436c-a7fa-75683a08651e",
   "metadata": {},
   "outputs": [
    {
     "data": {
      "text/plain": [
       "(32404859, 34)"
      ]
     },
     "execution_count": 35,
     "metadata": {},
     "output_type": "execute_result"
    }
   ],
   "source": [
    "# Checking shape of new merged dataframe.\n",
    "\n",
    "df_cust_merge.shape"
   ]
  },
  {
   "cell_type": "code",
   "execution_count": 36,
   "id": "39204184-50df-477b-9353-9e1636e7a0cd",
   "metadata": {},
   "outputs": [
    {
     "data": {
      "text/plain": [
       "merge_status\n",
       "both          32404859\n",
       "left_only            0\n",
       "right_only           0\n",
       "Name: count, dtype: int64"
      ]
     },
     "execution_count": 36,
     "metadata": {},
     "output_type": "execute_result"
    }
   ],
   "source": [
    "# Checking merge rate.\n",
    "# Not going to run an 'outer' merge to check if this is true (due to memory).\n",
    "# Already know from the reading in 4.6 that we will only be working with data sets that have a full merge rate. \n",
    "\n",
    "df_cust_merge['merge_status'].value_counts()"
   ]
  },
  {
   "cell_type": "code",
   "execution_count": 37,
   "id": "023501e7-9914-40aa-8578-457fd002cd4e",
   "metadata": {},
   "outputs": [
    {
     "name": "stdout",
     "output_type": "stream",
     "text": [
      "<class 'pandas.core.frame.DataFrame'>\n",
      "RangeIndex: 32404859 entries, 0 to 32404858\n",
      "Data columns (total 34 columns):\n",
      " #   Column                      Dtype   \n",
      "---  ------                      -----   \n",
      " 0   product_id                  int64   \n",
      " 1   product_name                object  \n",
      " 2   aisle_id                    int64   \n",
      " 3   department_id               int64   \n",
      " 4   prices                      float64 \n",
      " 5   order_id                    int64   \n",
      " 6   user_id                     object  \n",
      " 7   order_number                int64   \n",
      " 8   orders_day_of_week          int64   \n",
      " 9   order_hour_of_day           int64   \n",
      " 10  days_since_prior_order      float64 \n",
      " 11  add_to_cart_order           int64   \n",
      " 12  reordered                   int64   \n",
      " 13  _merge                      category\n",
      " 14  price_range_loc             object  \n",
      " 15  busiest_day                 object  \n",
      " 16  busiest_days                object  \n",
      " 17  busiest_period_of_day       object  \n",
      " 18  max_order                   int64   \n",
      " 19  loyalty_flag                object  \n",
      " 20  avg_product_price           float64 \n",
      " 21  spending_flag               object  \n",
      " 22  median_days_between_orders  float64 \n",
      " 23  ordering_behavior_flag      object  \n",
      " 24  first_name                  object  \n",
      " 25  last_name                   object  \n",
      " 26  gender                      object  \n",
      " 27  state                       object  \n",
      " 28  age                         int64   \n",
      " 29  date_joined                 object  \n",
      " 30  n_dependants                int64   \n",
      " 31  fam_status                  object  \n",
      " 32  income                      int64   \n",
      " 33  merge_status                category\n",
      "dtypes: category(2), float64(4), int64(13), object(15)\n",
      "memory usage: 7.8+ GB\n"
     ]
    }
   ],
   "source": [
    "# Checking newly merged dataframe again before exporting. \n",
    "\n",
    "df_cust_merge.info()"
   ]
  },
  {
   "cell_type": "markdown",
   "id": "5829ca80-6070-4090-9755-30145a2d4b2a",
   "metadata": {},
   "source": [
    "## Step 8 - Export this new dataframe as a pickle file so you can continue to use it in the second part of this task."
   ]
  },
  {
   "cell_type": "code",
   "execution_count": 38,
   "id": "57031ed9-310f-4067-ab34-405cd06e6881",
   "metadata": {},
   "outputs": [],
   "source": [
    "# Exporting new merged data with customer information as a pickle. \n",
    "\n",
    "df_cust_merge.to_pickle(os.path.join(path, '02 Data','Prepared Data', 'customer_and_merged.pkl'))"
   ]
  },
  {
   "cell_type": "code",
   "execution_count": null,
   "id": "7a74dfda-7b78-45ea-95f3-921dd5de040a",
   "metadata": {},
   "outputs": [],
   "source": []
  }
 ],
 "metadata": {
  "kernelspec": {
   "display_name": "Python [conda env:base] *",
   "language": "python",
   "name": "conda-base-py"
  },
  "language_info": {
   "codemirror_mode": {
    "name": "ipython",
    "version": 3
   },
   "file_extension": ".py",
   "mimetype": "text/x-python",
   "name": "python",
   "nbconvert_exporter": "python",
   "pygments_lexer": "ipython3",
   "version": "3.13.5"
  }
 },
 "nbformat": 4,
 "nbformat_minor": 5
}
