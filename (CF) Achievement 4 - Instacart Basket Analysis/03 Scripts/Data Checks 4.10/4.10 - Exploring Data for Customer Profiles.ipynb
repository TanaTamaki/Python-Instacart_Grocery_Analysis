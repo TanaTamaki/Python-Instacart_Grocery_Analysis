{
 "cells": [
  {
   "cell_type": "markdown",
   "id": "45cc5a58-1c2e-4676-a1a0-962d7af86f3d",
   "metadata": {},
   "source": [
    "# Importing Libraries"
   ]
  },
  {
   "cell_type": "code",
   "execution_count": 2,
   "id": "cc8def89-09b6-43cf-994a-ebd47025a2ce",
   "metadata": {},
   "outputs": [],
   "source": [
    "import pandas as pd\n",
    "import numpy as np\n",
    "import os\n",
    "import matplotlib.pyplot as plt\n",
    "import seaborn as sns\n",
    "import scipy"
   ]
  },
  {
   "cell_type": "markdown",
   "id": "f34cbe5d-a281-4f25-9c1d-0d630900dd9e",
   "metadata": {},
   "source": [
    "# Importing Data"
   ]
  },
  {
   "cell_type": "code",
   "execution_count": 3,
   "id": "ecd356af-9e86-4369-9b7b-d7177b50bcd2",
   "metadata": {},
   "outputs": [],
   "source": [
    "# Importing updated dataframe with new columns and only high-activity customers from notebook 4.10 - Part 1\n",
    "\n",
    "# Creating a path to project folder.\n",
    "path = r'C:\\Users\\TanaT\\(CF) Achievement 4 - Instacart Basket Analysis'\n",
    "\n",
    "# Importing dataframe. \n",
    "df_updated =  pd.read_pickle(os.path.join(path, '02 Data','Prepared Data', 'active_cust_and_dept_names.pkl'))    "
   ]
  },
  {
   "cell_type": "code",
   "execution_count": 4,
   "id": "2e792b10-59e5-4f8d-8600-e2d1f92bad2a",
   "metadata": {
    "scrolled": true
   },
   "outputs": [
    {
     "data": {
      "text/html": [
       "<div>\n",
       "<style scoped>\n",
       "    .dataframe tbody tr th:only-of-type {\n",
       "        vertical-align: middle;\n",
       "    }\n",
       "\n",
       "    .dataframe tbody tr th {\n",
       "        vertical-align: top;\n",
       "    }\n",
       "\n",
       "    .dataframe thead th {\n",
       "        text-align: right;\n",
       "    }\n",
       "</style>\n",
       "<table border=\"1\" class=\"dataframe\">\n",
       "  <thead>\n",
       "    <tr style=\"text-align: right;\">\n",
       "      <th></th>\n",
       "      <th>product_id</th>\n",
       "      <th>product_name</th>\n",
       "      <th>aisle_id</th>\n",
       "      <th>department_id</th>\n",
       "      <th>prices</th>\n",
       "      <th>order_id</th>\n",
       "      <th>user_id</th>\n",
       "      <th>order_number</th>\n",
       "      <th>orders_day_of_week</th>\n",
       "      <th>order_hour_of_day</th>\n",
       "      <th>...</th>\n",
       "      <th>state</th>\n",
       "      <th>age</th>\n",
       "      <th>date_joined</th>\n",
       "      <th>n_dependants</th>\n",
       "      <th>fam_status</th>\n",
       "      <th>income</th>\n",
       "      <th>merge_status</th>\n",
       "      <th>department</th>\n",
       "      <th>region</th>\n",
       "      <th>customer_activity</th>\n",
       "    </tr>\n",
       "  </thead>\n",
       "  <tbody>\n",
       "    <tr>\n",
       "      <th>0</th>\n",
       "      <td>1</td>\n",
       "      <td>Chocolate Sandwich Cookies</td>\n",
       "      <td>61</td>\n",
       "      <td>19</td>\n",
       "      <td>5.8</td>\n",
       "      <td>3139998</td>\n",
       "      <td>138</td>\n",
       "      <td>28</td>\n",
       "      <td>6</td>\n",
       "      <td>11</td>\n",
       "      <td>...</td>\n",
       "      <td>Minnesota</td>\n",
       "      <td>81</td>\n",
       "      <td>8/1/2019</td>\n",
       "      <td>1</td>\n",
       "      <td>married</td>\n",
       "      <td>49620</td>\n",
       "      <td>both</td>\n",
       "      <td>snacks</td>\n",
       "      <td>Midwest</td>\n",
       "      <td>high</td>\n",
       "    </tr>\n",
       "    <tr>\n",
       "      <th>1</th>\n",
       "      <td>1</td>\n",
       "      <td>Chocolate Sandwich Cookies</td>\n",
       "      <td>61</td>\n",
       "      <td>19</td>\n",
       "      <td>5.8</td>\n",
       "      <td>1977647</td>\n",
       "      <td>138</td>\n",
       "      <td>30</td>\n",
       "      <td>6</td>\n",
       "      <td>17</td>\n",
       "      <td>...</td>\n",
       "      <td>Minnesota</td>\n",
       "      <td>81</td>\n",
       "      <td>8/1/2019</td>\n",
       "      <td>1</td>\n",
       "      <td>married</td>\n",
       "      <td>49620</td>\n",
       "      <td>both</td>\n",
       "      <td>snacks</td>\n",
       "      <td>Midwest</td>\n",
       "      <td>high</td>\n",
       "    </tr>\n",
       "    <tr>\n",
       "      <th>2</th>\n",
       "      <td>1</td>\n",
       "      <td>Chocolate Sandwich Cookies</td>\n",
       "      <td>61</td>\n",
       "      <td>19</td>\n",
       "      <td>5.8</td>\n",
       "      <td>389851</td>\n",
       "      <td>709</td>\n",
       "      <td>2</td>\n",
       "      <td>0</td>\n",
       "      <td>21</td>\n",
       "      <td>...</td>\n",
       "      <td>Vermont</td>\n",
       "      <td>66</td>\n",
       "      <td>6/16/2018</td>\n",
       "      <td>2</td>\n",
       "      <td>married</td>\n",
       "      <td>158302</td>\n",
       "      <td>both</td>\n",
       "      <td>snacks</td>\n",
       "      <td>Northeast</td>\n",
       "      <td>high</td>\n",
       "    </tr>\n",
       "    <tr>\n",
       "      <th>5</th>\n",
       "      <td>1</td>\n",
       "      <td>Chocolate Sandwich Cookies</td>\n",
       "      <td>61</td>\n",
       "      <td>19</td>\n",
       "      <td>5.8</td>\n",
       "      <td>1701441</td>\n",
       "      <td>777</td>\n",
       "      <td>16</td>\n",
       "      <td>1</td>\n",
       "      <td>7</td>\n",
       "      <td>...</td>\n",
       "      <td>Hawaii</td>\n",
       "      <td>51</td>\n",
       "      <td>1/4/2019</td>\n",
       "      <td>2</td>\n",
       "      <td>married</td>\n",
       "      <td>57797</td>\n",
       "      <td>both</td>\n",
       "      <td>snacks</td>\n",
       "      <td>West</td>\n",
       "      <td>high</td>\n",
       "    </tr>\n",
       "    <tr>\n",
       "      <th>6</th>\n",
       "      <td>1</td>\n",
       "      <td>Chocolate Sandwich Cookies</td>\n",
       "      <td>61</td>\n",
       "      <td>19</td>\n",
       "      <td>5.8</td>\n",
       "      <td>1871483</td>\n",
       "      <td>825</td>\n",
       "      <td>3</td>\n",
       "      <td>2</td>\n",
       "      <td>14</td>\n",
       "      <td>...</td>\n",
       "      <td>District of Columbia</td>\n",
       "      <td>20</td>\n",
       "      <td>5/8/2019</td>\n",
       "      <td>3</td>\n",
       "      <td>living with parents and siblings</td>\n",
       "      <td>34171</td>\n",
       "      <td>both</td>\n",
       "      <td>snacks</td>\n",
       "      <td>South</td>\n",
       "      <td>high</td>\n",
       "    </tr>\n",
       "  </tbody>\n",
       "</table>\n",
       "<p>5 rows × 35 columns</p>\n",
       "</div>"
      ],
      "text/plain": [
       "   product_id                product_name  aisle_id  department_id  prices  \\\n",
       "0           1  Chocolate Sandwich Cookies        61             19     5.8   \n",
       "1           1  Chocolate Sandwich Cookies        61             19     5.8   \n",
       "2           1  Chocolate Sandwich Cookies        61             19     5.8   \n",
       "5           1  Chocolate Sandwich Cookies        61             19     5.8   \n",
       "6           1  Chocolate Sandwich Cookies        61             19     5.8   \n",
       "\n",
       "   order_id user_id  order_number  orders_day_of_week  order_hour_of_day  ...  \\\n",
       "0   3139998     138            28                   6                 11  ...   \n",
       "1   1977647     138            30                   6                 17  ...   \n",
       "2    389851     709             2                   0                 21  ...   \n",
       "5   1701441     777            16                   1                  7  ...   \n",
       "6   1871483     825             3                   2                 14  ...   \n",
       "\n",
       "                  state  age  date_joined n_dependants  \\\n",
       "0             Minnesota   81     8/1/2019            1   \n",
       "1             Minnesota   81     8/1/2019            1   \n",
       "2               Vermont   66    6/16/2018            2   \n",
       "5                Hawaii   51     1/4/2019            2   \n",
       "6  District of Columbia   20     5/8/2019            3   \n",
       "\n",
       "                         fam_status  income merge_status department  \\\n",
       "0                           married   49620         both     snacks   \n",
       "1                           married   49620         both     snacks   \n",
       "2                           married  158302         both     snacks   \n",
       "5                           married   57797         both     snacks   \n",
       "6  living with parents and siblings   34171         both     snacks   \n",
       "\n",
       "      region customer_activity  \n",
       "0    Midwest              high  \n",
       "1    Midwest              high  \n",
       "2  Northeast              high  \n",
       "5       West              high  \n",
       "6      South              high  \n",
       "\n",
       "[5 rows x 35 columns]"
      ]
     },
     "execution_count": 4,
     "metadata": {},
     "output_type": "execute_result"
    }
   ],
   "source": [
    "# Checking dataframe.\n",
    "\n",
    "df_updated.head()"
   ]
  },
  {
   "cell_type": "code",
   "execution_count": 5,
   "id": "199f9bf2-0032-4827-a315-782adf8e0015",
   "metadata": {},
   "outputs": [
    {
     "data": {
      "text/plain": [
       "(30964564, 35)"
      ]
     },
     "execution_count": 5,
     "metadata": {},
     "output_type": "execute_result"
    }
   ],
   "source": [
    "# Checking dataframe shape. \n",
    "\n",
    "df_updated.shape"
   ]
  },
  {
   "cell_type": "markdown",
   "id": "37d9fd06-f9d5-4dcc-b228-cfa32bce5002",
   "metadata": {},
   "source": [
    "## Step 5 - Profiling Data"
   ]
  },
  {
   "cell_type": "markdown",
   "id": "3dfdb2cd-22c2-4e07-a914-2f5eca5355d5",
   "metadata": {},
   "source": [
    "### Age Profile"
   ]
  },
  {
   "cell_type": "code",
   "execution_count": 8,
   "id": "eced68cd-7378-48f0-978e-c09d80c26c40",
   "metadata": {},
   "outputs": [
    {
     "data": {
      "text/plain": [
       "count    3.096456e+07\n",
       "mean     4.946803e+01\n",
       "std      1.848528e+01\n",
       "min      1.800000e+01\n",
       "25%      3.300000e+01\n",
       "50%      4.900000e+01\n",
       "75%      6.500000e+01\n",
       "max      8.100000e+01\n",
       "Name: age, dtype: float64"
      ]
     },
     "execution_count": 8,
     "metadata": {},
     "output_type": "execute_result"
    }
   ],
   "source": [
    "# Checking statistics for age column.\n",
    "\n",
    "df_updated['age'].describe()"
   ]
  },
  {
   "cell_type": "markdown",
   "id": "ab1842e8-a0e5-4d12-a29d-40276c46c917",
   "metadata": {},
   "source": [
    "- Average age is around 49\n",
    "- Min age is 18\n",
    "- Max age is 81\n",
    "- Most customers (50th and 75th percentile) are older (49 and over)\n",
    "- Possible age groupings (<= 33 (young), >33 and <=65 (middle-aged), >65 (older))"
   ]
  },
  {
   "cell_type": "markdown",
   "id": "eae88b18-6d4b-4e6e-aff3-92fb5f49a063",
   "metadata": {},
   "source": [
    "#### Dividing ages into categories based on quartiles. "
   ]
  },
  {
   "cell_type": "code",
   "execution_count": 12,
   "id": "8055522f-c5d2-4fc1-b49d-a9987c3f255a",
   "metadata": {},
   "outputs": [],
   "source": [
    "# Grouping ages into categories based on the quartiles. \n",
    "\n",
    "# Classifying 'young' adults.\n",
    "df_updated.loc[df_updated['age'] <= 33, 'age_category'] = 'Young adult'\n",
    "\n",
    "# Classifying 'middle-aged' adults.\n",
    "df_updated.loc[(df_updated['age'] > 33) & ( df_updated ['age'] < 65), 'age_category'] = 'Middle-aged adult'\n",
    "\n",
    "# Classifying 'older' adults. \n",
    "df_updated.loc[df_updated['age'] >= 65, 'age_category'] = 'Senior'"
   ]
  },
  {
   "cell_type": "code",
   "execution_count": 13,
   "id": "403395c0-567c-4586-9d2b-4c3683774cce",
   "metadata": {},
   "outputs": [
    {
     "data": {
      "text/plain": [
       "age_category\n",
       "Middle-aged adult    15011555\n",
       "Senior                8195544\n",
       "Young adult           7757465\n",
       "Name: count, dtype: int64"
      ]
     },
     "execution_count": 13,
     "metadata": {},
     "output_type": "execute_result"
    }
   ],
   "source": [
    "# Checking age categories. \n",
    "\n",
    "df_updated['age_category'].value_counts(dropna = False)"
   ]
  },
  {
   "cell_type": "markdown",
   "id": "7162a910-3c8a-45ea-b313-c379c5a887e1",
   "metadata": {},
   "source": [
    "Customer base is mostly comprised of middle-aged adults (those between 33-65), folllowed by seniors, then young adults. "
   ]
  },
  {
   "cell_type": "code",
   "execution_count": 15,
   "id": "10c4cf45-c6ba-4670-9b29-2190b5354985",
   "metadata": {},
   "outputs": [
    {
     "data": {
      "text/plain": [
       "Index(['product_id', 'product_name', 'aisle_id', 'department_id', 'prices',\n",
       "       'order_id', 'user_id', 'order_number', 'orders_day_of_week',\n",
       "       'order_hour_of_day', 'days_since_prior_order', 'add_to_cart_order',\n",
       "       'reordered', '_merge', 'price_range_loc', 'busiest_day', 'busiest_days',\n",
       "       'busiest_period_of_day', 'max_order', 'loyalty_flag',\n",
       "       'avg_product_price', 'spending_flag', 'median_days_between_orders',\n",
       "       'ordering_behavior_flag', 'gender', 'state', 'age', 'date_joined',\n",
       "       'n_dependants', 'fam_status', 'income', 'merge_status', 'department',\n",
       "       'region', 'customer_activity', 'age_category'],\n",
       "      dtype='object')"
      ]
     },
     "execution_count": 15,
     "metadata": {},
     "output_type": "execute_result"
    }
   ],
   "source": [
    "# Checking columns to see which other variables to work with. \n",
    "\n",
    "df_updated.columns"
   ]
  },
  {
   "cell_type": "code",
   "execution_count": 16,
   "id": "dd585e0c-5be3-47db-8b5e-d7f454e40579",
   "metadata": {},
   "outputs": [
    {
     "data": {
      "text/html": [
       "<div>\n",
       "<style scoped>\n",
       "    .dataframe tbody tr th:only-of-type {\n",
       "        vertical-align: middle;\n",
       "    }\n",
       "\n",
       "    .dataframe tbody tr th {\n",
       "        vertical-align: top;\n",
       "    }\n",
       "\n",
       "    .dataframe thead tr th {\n",
       "        text-align: left;\n",
       "    }\n",
       "\n",
       "    .dataframe thead tr:last-of-type th {\n",
       "        text-align: right;\n",
       "    }\n",
       "</style>\n",
       "<table border=\"1\" class=\"dataframe\">\n",
       "  <thead>\n",
       "    <tr>\n",
       "      <th></th>\n",
       "      <th colspan=\"3\" halign=\"left\">prices</th>\n",
       "    </tr>\n",
       "    <tr>\n",
       "      <th></th>\n",
       "      <th>min</th>\n",
       "      <th>max</th>\n",
       "      <th>mean</th>\n",
       "    </tr>\n",
       "    <tr>\n",
       "      <th>age_category</th>\n",
       "      <th></th>\n",
       "      <th></th>\n",
       "      <th></th>\n",
       "    </tr>\n",
       "  </thead>\n",
       "  <tbody>\n",
       "    <tr>\n",
       "      <th>Middle-aged adult</th>\n",
       "      <td>1.0</td>\n",
       "      <td>25.0</td>\n",
       "      <td>7.790356</td>\n",
       "    </tr>\n",
       "    <tr>\n",
       "      <th>Senior</th>\n",
       "      <td>1.0</td>\n",
       "      <td>25.0</td>\n",
       "      <td>7.796715</td>\n",
       "    </tr>\n",
       "    <tr>\n",
       "      <th>Young adult</th>\n",
       "      <td>1.0</td>\n",
       "      <td>25.0</td>\n",
       "      <td>7.784572</td>\n",
       "    </tr>\n",
       "  </tbody>\n",
       "</table>\n",
       "</div>"
      ],
      "text/plain": [
       "                  prices                \n",
       "                     min   max      mean\n",
       "age_category                            \n",
       "Middle-aged adult    1.0  25.0  7.790356\n",
       "Senior               1.0  25.0  7.796715\n",
       "Young adult          1.0  25.0  7.784572"
      ]
     },
     "execution_count": 16,
     "metadata": {},
     "output_type": "execute_result"
    }
   ],
   "source": [
    "# Step 7 - Aggregating the max, mean, and min variables for age profile. \n",
    "# Aggregating usage frequency and expenditure. \n",
    "\n",
    "# Expenditure (price) \n",
    "\n",
    "df_updated.groupby('age_category').agg({'prices': ['min', 'max', 'mean']})"
   ]
  },
  {
   "cell_type": "markdown",
   "id": "15537ac5-9b57-4122-9b00-28a33541df9e",
   "metadata": {},
   "source": [
    "This suggests that age alone doesn't play a role in expenditure. Other factors like income in combination with age may play a role and will be investigated. "
   ]
  },
  {
   "cell_type": "code",
   "execution_count": 17,
   "id": "ef8c2c8d-2bab-4985-8cee-c36aff186f9d",
   "metadata": {},
   "outputs": [
    {
     "data": {
      "text/html": [
       "<div>\n",
       "<style scoped>\n",
       "    .dataframe tbody tr th:only-of-type {\n",
       "        vertical-align: middle;\n",
       "    }\n",
       "\n",
       "    .dataframe tbody tr th {\n",
       "        vertical-align: top;\n",
       "    }\n",
       "\n",
       "    .dataframe thead tr th {\n",
       "        text-align: left;\n",
       "    }\n",
       "\n",
       "    .dataframe thead tr:last-of-type th {\n",
       "        text-align: right;\n",
       "    }\n",
       "</style>\n",
       "<table border=\"1\" class=\"dataframe\">\n",
       "  <thead>\n",
       "    <tr>\n",
       "      <th></th>\n",
       "      <th colspan=\"3\" halign=\"left\">median_days_between_orders</th>\n",
       "    </tr>\n",
       "    <tr>\n",
       "      <th></th>\n",
       "      <th>min</th>\n",
       "      <th>max</th>\n",
       "      <th>mean</th>\n",
       "    </tr>\n",
       "    <tr>\n",
       "      <th>age_category</th>\n",
       "      <th></th>\n",
       "      <th></th>\n",
       "      <th></th>\n",
       "    </tr>\n",
       "  </thead>\n",
       "  <tbody>\n",
       "    <tr>\n",
       "      <th>Middle-aged adult</th>\n",
       "      <td>0.0</td>\n",
       "      <td>30.0</td>\n",
       "      <td>9.961348</td>\n",
       "    </tr>\n",
       "    <tr>\n",
       "      <th>Senior</th>\n",
       "      <td>0.0</td>\n",
       "      <td>30.0</td>\n",
       "      <td>9.933025</td>\n",
       "    </tr>\n",
       "    <tr>\n",
       "      <th>Young adult</th>\n",
       "      <td>0.0</td>\n",
       "      <td>30.0</td>\n",
       "      <td>9.974473</td>\n",
       "    </tr>\n",
       "  </tbody>\n",
       "</table>\n",
       "</div>"
      ],
      "text/plain": [
       "                  median_days_between_orders                \n",
       "                                         min   max      mean\n",
       "age_category                                                \n",
       "Middle-aged adult                        0.0  30.0  9.961348\n",
       "Senior                                   0.0  30.0  9.933025\n",
       "Young adult                              0.0  30.0  9.974473"
      ]
     },
     "execution_count": 17,
     "metadata": {},
     "output_type": "execute_result"
    }
   ],
   "source": [
    "# Step 7 \n",
    "# Usage frequency (median days between orders)\n",
    "\n",
    "df_updated.groupby('age_category').agg({'median_days_between_orders': ['min', 'max', 'mean']})"
   ]
  },
  {
   "cell_type": "markdown",
   "id": "abca8928-d349-45c5-ab84-0a03efe258d4",
   "metadata": {},
   "source": [
    "- This suggests that age does not play a role in frequency of orders, as all age groups have similar mean frequencies.\n",
    "- All age groups seem to go about 10 days between orders. "
   ]
  },
  {
   "cell_type": "code",
   "execution_count": 19,
   "id": "9110287b-502b-41c9-aecd-c6b5a284bf73",
   "metadata": {},
   "outputs": [
    {
     "data": {
      "text/plain": [
       "age_category\n",
       "Middle-aged adult    17.904057\n",
       "Senior               17.784952\n",
       "Young adult          17.750814\n",
       "Name: order_number, dtype: float64"
      ]
     },
     "execution_count": 19,
     "metadata": {},
     "output_type": "execute_result"
    }
   ],
   "source": [
    "# Checking age and average number of orders.\n",
    "# Finding average number of orders for each age category. \n",
    "\n",
    "avg_order_age = df_updated.groupby('age_category')['order_number'].mean()\n",
    "avg_order_age"
   ]
  },
  {
   "cell_type": "markdown",
   "id": "b889f291-ed07-41ed-bcab-e70e6fe9bd45",
   "metadata": {},
   "source": [
    "This suggests that age does not play a role in number of orders placed by customers, since all age groups have similar mean number of orders. "
   ]
  },
  {
   "cell_type": "code",
   "execution_count": 22,
   "id": "ba0de77f-65d4-4b83-847e-2fc63a4f0f74",
   "metadata": {},
   "outputs": [
    {
     "data": {
      "text/html": [
       "<div>\n",
       "<style scoped>\n",
       "    .dataframe tbody tr th:only-of-type {\n",
       "        vertical-align: middle;\n",
       "    }\n",
       "\n",
       "    .dataframe tbody tr th {\n",
       "        vertical-align: top;\n",
       "    }\n",
       "\n",
       "    .dataframe thead th {\n",
       "        text-align: right;\n",
       "    }\n",
       "</style>\n",
       "<table border=\"1\" class=\"dataframe\">\n",
       "  <thead>\n",
       "    <tr style=\"text-align: right;\">\n",
       "      <th>age_category</th>\n",
       "      <th>Middle-aged adult</th>\n",
       "      <th>Senior</th>\n",
       "      <th>Young adult</th>\n",
       "    </tr>\n",
       "    <tr>\n",
       "      <th>orders_day_of_week</th>\n",
       "      <th></th>\n",
       "      <th></th>\n",
       "      <th></th>\n",
       "    </tr>\n",
       "  </thead>\n",
       "  <tbody>\n",
       "    <tr>\n",
       "      <th>0</th>\n",
       "      <td>2858542</td>\n",
       "      <td>1566244</td>\n",
       "      <td>1483824</td>\n",
       "    </tr>\n",
       "    <tr>\n",
       "      <th>1</th>\n",
       "      <td>2622795</td>\n",
       "      <td>1417495</td>\n",
       "      <td>1371396</td>\n",
       "    </tr>\n",
       "    <tr>\n",
       "      <th>2</th>\n",
       "      <td>1957328</td>\n",
       "      <td>1065170</td>\n",
       "      <td>1002208</td>\n",
       "    </tr>\n",
       "    <tr>\n",
       "      <th>3</th>\n",
       "      <td>1778125</td>\n",
       "      <td>978350</td>\n",
       "      <td>913060</td>\n",
       "    </tr>\n",
       "    <tr>\n",
       "      <th>4</th>\n",
       "      <td>1759264</td>\n",
       "      <td>956161</td>\n",
       "      <td>909569</td>\n",
       "    </tr>\n",
       "    <tr>\n",
       "      <th>5</th>\n",
       "      <td>1956067</td>\n",
       "      <td>1066115</td>\n",
       "      <td>1011547</td>\n",
       "    </tr>\n",
       "    <tr>\n",
       "      <th>6</th>\n",
       "      <td>2079434</td>\n",
       "      <td>1146009</td>\n",
       "      <td>1065861</td>\n",
       "    </tr>\n",
       "  </tbody>\n",
       "</table>\n",
       "</div>"
      ],
      "text/plain": [
       "age_category        Middle-aged adult   Senior  Young adult\n",
       "orders_day_of_week                                         \n",
       "0                             2858542  1566244      1483824\n",
       "1                             2622795  1417495      1371396\n",
       "2                             1957328  1065170      1002208\n",
       "3                             1778125   978350       913060\n",
       "4                             1759264   956161       909569\n",
       "5                             1956067  1066115      1011547\n",
       "6                             2079434  1146009      1065861"
      ]
     },
     "execution_count": 22,
     "metadata": {},
     "output_type": "execute_result"
    }
   ],
   "source": [
    "# Checking age and when they make orders during the week. \n",
    "# Making a crosstab of the varibles. \n",
    "\n",
    "crosstab_age_dow = pd.crosstab(df_updated['orders_day_of_week'], df_updated['age_category'], dropna = False)\n",
    "crosstab_age_dow"
   ]
  },
  {
   "cell_type": "code",
   "execution_count": 23,
   "id": "d75286a9-04bc-4fa9-bdf0-292930af032e",
   "metadata": {},
   "outputs": [],
   "source": [
    "# Saving crosstab to clipboard. \n",
    "\n",
    "crosstab_age_dow.to_clipboard()"
   ]
  },
  {
   "cell_type": "code",
   "execution_count": 37,
   "id": "1738e04e-ffa7-49ae-be5a-911d47e18fb2",
   "metadata": {},
   "outputs": [
    {
     "data": {
      "image/png": "[encoded data removed]",
      "text/plain": [
       "<Figure size 640x480 with 1 Axes>"
      ]
     },
     "metadata": {},
     "output_type": "display_data"
    }
   ],
   "source": [
    "# Graphing crosstab. \n",
    "\n",
    "bar_1 = crosstab_age_dow.plot(kind = 'bar', color = ['royalblue', 'deepskyblue', 'skyblue'])\n",
    "                                                \n",
    "\n",
    "# Title \n",
    "plt.title ('Order Day of Week by Age Groups')\n",
    "plt.xlabel ('Day of Week')\n",
    "plt.ylabel ('Count of Orders')\n",
    "\n",
    "# Layout\n",
    "plt.tight_layout()"
   ]
  },
  {
   "cell_type": "markdown",
   "id": "928aa6d4-6db3-407a-9293-7f786882830b",
   "metadata": {},
   "source": [
    "- All age categories place the most orders on Saturday and Sunday (0 and 1).\n",
    "- This suggests that age does not play a role in ordering habits.\n",
    "- This also suggests that ads should be run on other days during the week, when less orders are being placed (to improve sales).\n",
    "- Other factors like hour of day will be checked to see if age plays a role. "
   ]
  },
  {
   "cell_type": "code",
   "execution_count": 38,
   "id": "3c0645b3-7d3e-4ec8-9956-d2466b388bfb",
   "metadata": {},
   "outputs": [],
   "source": [
    "# Exporting bar chart. \n",
    "\n",
    "bar_1.figure.savefig(os.path.join(path, '04 Analysis and Results','Visualizations', 'age_order_day_of_week.png'),bbox_inches='tight')"
   ]
  },
  {
   "cell_type": "code",
   "execution_count": 39,
   "id": "2e29d041-64f0-4c67-bffe-cbb5a7de81ff",
   "metadata": {
    "scrolled": true
   },
   "outputs": [
    {
     "data": {
      "text/html": [
       "<div>\n",
       "<style scoped>\n",
       "    .dataframe tbody tr th:only-of-type {\n",
       "        vertical-align: middle;\n",
       "    }\n",
       "\n",
       "    .dataframe tbody tr th {\n",
       "        vertical-align: top;\n",
       "    }\n",
       "\n",
       "    .dataframe thead th {\n",
       "        text-align: right;\n",
       "    }\n",
       "</style>\n",
       "<table border=\"1\" class=\"dataframe\">\n",
       "  <thead>\n",
       "    <tr style=\"text-align: right;\">\n",
       "      <th>age_category</th>\n",
       "      <th>Middle-aged adult</th>\n",
       "      <th>Senior</th>\n",
       "      <th>Young adult</th>\n",
       "    </tr>\n",
       "    <tr>\n",
       "      <th>order_hour_of_day</th>\n",
       "      <th></th>\n",
       "      <th></th>\n",
       "      <th></th>\n",
       "    </tr>\n",
       "  </thead>\n",
       "  <tbody>\n",
       "    <tr>\n",
       "      <th>0</th>\n",
       "      <td>101028</td>\n",
       "      <td>53395</td>\n",
       "      <td>53619</td>\n",
       "    </tr>\n",
       "    <tr>\n",
       "      <th>1</th>\n",
       "      <td>53031</td>\n",
       "      <td>28688</td>\n",
       "      <td>27902</td>\n",
       "    </tr>\n",
       "    <tr>\n",
       "      <th>2</th>\n",
       "      <td>31012</td>\n",
       "      <td>17458</td>\n",
       "      <td>17221</td>\n",
       "    </tr>\n",
       "    <tr>\n",
       "      <th>3</th>\n",
       "      <td>22857</td>\n",
       "      <td>13395</td>\n",
       "      <td>12544</td>\n",
       "    </tr>\n",
       "    <tr>\n",
       "      <th>4</th>\n",
       "      <td>24132</td>\n",
       "      <td>13680</td>\n",
       "      <td>12951</td>\n",
       "    </tr>\n",
       "    <tr>\n",
       "      <th>5</th>\n",
       "      <td>40063</td>\n",
       "      <td>23286</td>\n",
       "      <td>21069</td>\n",
       "    </tr>\n",
       "    <tr>\n",
       "      <th>6</th>\n",
       "      <td>133272</td>\n",
       "      <td>75229</td>\n",
       "      <td>72512</td>\n",
       "    </tr>\n",
       "    <tr>\n",
       "      <th>7</th>\n",
       "      <td>415240</td>\n",
       "      <td>233067</td>\n",
       "      <td>214906</td>\n",
       "    </tr>\n",
       "    <tr>\n",
       "      <th>8</th>\n",
       "      <td>805737</td>\n",
       "      <td>441458</td>\n",
       "      <td>411915</td>\n",
       "    </tr>\n",
       "    <tr>\n",
       "      <th>9</th>\n",
       "      <td>1143721</td>\n",
       "      <td>627132</td>\n",
       "      <td>592758</td>\n",
       "    </tr>\n",
       "    <tr>\n",
       "      <th>10</th>\n",
       "      <td>1282768</td>\n",
       "      <td>700013</td>\n",
       "      <td>666963</td>\n",
       "    </tr>\n",
       "    <tr>\n",
       "      <th>11</th>\n",
       "      <td>1267265</td>\n",
       "      <td>687734</td>\n",
       "      <td>659881</td>\n",
       "    </tr>\n",
       "    <tr>\n",
       "      <th>12</th>\n",
       "      <td>1210648</td>\n",
       "      <td>659508</td>\n",
       "      <td>625639</td>\n",
       "    </tr>\n",
       "    <tr>\n",
       "      <th>13</th>\n",
       "      <td>1234959</td>\n",
       "      <td>668463</td>\n",
       "      <td>635854</td>\n",
       "    </tr>\n",
       "    <tr>\n",
       "      <th>14</th>\n",
       "      <td>1242728</td>\n",
       "      <td>681039</td>\n",
       "      <td>644136</td>\n",
       "    </tr>\n",
       "    <tr>\n",
       "      <th>15</th>\n",
       "      <td>1233293</td>\n",
       "      <td>662856</td>\n",
       "      <td>639817</td>\n",
       "    </tr>\n",
       "    <tr>\n",
       "      <th>16</th>\n",
       "      <td>1170126</td>\n",
       "      <td>636550</td>\n",
       "      <td>607005</td>\n",
       "    </tr>\n",
       "    <tr>\n",
       "      <th>17</th>\n",
       "      <td>965717</td>\n",
       "      <td>524970</td>\n",
       "      <td>491658</td>\n",
       "    </tr>\n",
       "    <tr>\n",
       "      <th>18</th>\n",
       "      <td>754947</td>\n",
       "      <td>414996</td>\n",
       "      <td>381241</td>\n",
       "    </tr>\n",
       "    <tr>\n",
       "      <th>19</th>\n",
       "      <td>577640</td>\n",
       "      <td>318951</td>\n",
       "      <td>297287</td>\n",
       "    </tr>\n",
       "    <tr>\n",
       "      <th>20</th>\n",
       "      <td>450793</td>\n",
       "      <td>246374</td>\n",
       "      <td>233742</td>\n",
       "    </tr>\n",
       "    <tr>\n",
       "      <th>21</th>\n",
       "      <td>368807</td>\n",
       "      <td>204579</td>\n",
       "      <td>189725</td>\n",
       "    </tr>\n",
       "    <tr>\n",
       "      <th>22</th>\n",
       "      <td>293634</td>\n",
       "      <td>160653</td>\n",
       "      <td>152773</td>\n",
       "    </tr>\n",
       "    <tr>\n",
       "      <th>23</th>\n",
       "      <td>188137</td>\n",
       "      <td>102070</td>\n",
       "      <td>94347</td>\n",
       "    </tr>\n",
       "  </tbody>\n",
       "</table>\n",
       "</div>"
      ],
      "text/plain": [
       "age_category       Middle-aged adult  Senior  Young adult\n",
       "order_hour_of_day                                        \n",
       "0                             101028   53395        53619\n",
       "1                              53031   28688        27902\n",
       "2                              31012   17458        17221\n",
       "3                              22857   13395        12544\n",
       "4                              24132   13680        12951\n",
       "5                              40063   23286        21069\n",
       "6                             133272   75229        72512\n",
       "7                             415240  233067       214906\n",
       "8                             805737  441458       411915\n",
       "9                            1143721  627132       592758\n",
       "10                           1282768  700013       666963\n",
       "11                           1267265  687734       659881\n",
       "12                           1210648  659508       625639\n",
       "13                           1234959  668463       635854\n",
       "14                           1242728  681039       644136\n",
       "15                           1233293  662856       639817\n",
       "16                           1170126  636550       607005\n",
       "17                            965717  524970       491658\n",
       "18                            754947  414996       381241\n",
       "19                            577640  318951       297287\n",
       "20                            450793  246374       233742\n",
       "21                            368807  204579       189725\n",
       "22                            293634  160653       152773\n",
       "23                            188137  102070        94347"
      ]
     },
     "execution_count": 39,
     "metadata": {},
     "output_type": "execute_result"
    }
   ],
   "source": [
    "# Checking age and what time of day they place orders. \n",
    "# Making a crosstab of variables. \n",
    "\n",
    "crosstab_age_hour = pd.crosstab(df_updated['order_hour_of_day'], df_updated['age_category'], dropna = False)\n",
    "crosstab_age_hour"
   ]
  },
  {
   "cell_type": "code",
   "execution_count": 60,
   "id": "d9217e1c-2551-476d-8d00-4712c727399a",
   "metadata": {},
   "outputs": [
    {
     "data": {
      "image/png": "[encoded data removed]",
      "text/plain": [
       "<Figure size 640x480 with 1 Axes>"
      ]
     },
     "metadata": {},
     "output_type": "display_data"
    }
   ],
   "source": [
    "# Visualizing age and order hour during the day. \n",
    "\n",
    "line_age_order_hour = crosstab_age_hour.plot(kind='line', marker='o')\n",
    "\n",
    "plt.xlabel('Hour of Day')\n",
    "plt.ylabel('Count of Orders (in millions)')\n",
    "plt.title('Ordering Behavior by Hour in Age Groups')\n",
    "plt.legend(title='Age Groups')\n",
    "plt.tight_layout()\n",
    "plt.show()"
   ]
  },
  {
   "cell_type": "markdown",
   "id": "cfcfc5bd-1fbe-4394-af7d-ec4188fc5213",
   "metadata": {},
   "source": [
    "- The line chart shows that each age group follows the same trend, but in varying degrees.\n",
    "- Middle-aged adults place the most orders, followed by seniors, with young adults placing the least amount of orders.\n",
    "- All age groups place the most orders around 10am (peak) - 3pm, where orders start to decrease and continue to do so for the rest of the day.\n",
    "- The least amount of orders are placed before 5am. This could be a good time to run ads to try and boost sales during this time."
   ]
  },
  {
   "cell_type": "code",
   "execution_count": 61,
   "id": "07f3f422-de79-45b6-8a9b-5a6f7dd4c34b",
   "metadata": {},
   "outputs": [],
   "source": [
    "# Exporting line graph.\n",
    "\n",
    "line_age_order_hour.figure.savefig(os.path.join(path, '04 Analysis and Results','Visualizations', 'line_age_order_hour.png'),bbox_inches='tight')"
   ]
  },
  {
   "cell_type": "markdown",
   "id": "1734492f-fb42-4baf-9361-387db55dc439",
   "metadata": {},
   "source": [
    "### Family Variables - Income Profile and Number of Dependents"
   ]
  },
  {
   "cell_type": "code",
   "execution_count": 43,
   "id": "32734909-9f13-4dd8-a2c5-2d4c5bf7a4d1",
   "metadata": {},
   "outputs": [
    {
     "data": {
      "text/html": [
       "<div>\n",
       "<style scoped>\n",
       "    .dataframe tbody tr th:only-of-type {\n",
       "        vertical-align: middle;\n",
       "    }\n",
       "\n",
       "    .dataframe tbody tr th {\n",
       "        vertical-align: top;\n",
       "    }\n",
       "\n",
       "    .dataframe thead th {\n",
       "        text-align: right;\n",
       "    }\n",
       "</style>\n",
       "<table border=\"1\" class=\"dataframe\">\n",
       "  <thead>\n",
       "    <tr style=\"text-align: right;\">\n",
       "      <th></th>\n",
       "      <th>income</th>\n",
       "      <th>n_dependants</th>\n",
       "      <th>age</th>\n",
       "      <th>fam_status</th>\n",
       "    </tr>\n",
       "  </thead>\n",
       "  <tbody>\n",
       "    <tr>\n",
       "      <th>0</th>\n",
       "      <td>49620</td>\n",
       "      <td>1</td>\n",
       "      <td>81</td>\n",
       "      <td>married</td>\n",
       "    </tr>\n",
       "    <tr>\n",
       "      <th>1</th>\n",
       "      <td>49620</td>\n",
       "      <td>1</td>\n",
       "      <td>81</td>\n",
       "      <td>married</td>\n",
       "    </tr>\n",
       "    <tr>\n",
       "      <th>2</th>\n",
       "      <td>158302</td>\n",
       "      <td>2</td>\n",
       "      <td>66</td>\n",
       "      <td>married</td>\n",
       "    </tr>\n",
       "    <tr>\n",
       "      <th>5</th>\n",
       "      <td>57797</td>\n",
       "      <td>2</td>\n",
       "      <td>51</td>\n",
       "      <td>married</td>\n",
       "    </tr>\n",
       "    <tr>\n",
       "      <th>6</th>\n",
       "      <td>34171</td>\n",
       "      <td>3</td>\n",
       "      <td>20</td>\n",
       "      <td>living with parents and siblings</td>\n",
       "    </tr>\n",
       "    <tr>\n",
       "      <th>...</th>\n",
       "      <td>...</td>\n",
       "      <td>...</td>\n",
       "      <td>...</td>\n",
       "      <td>...</td>\n",
       "    </tr>\n",
       "    <tr>\n",
       "      <th>32404853</th>\n",
       "      <td>128072</td>\n",
       "      <td>1</td>\n",
       "      <td>62</td>\n",
       "      <td>married</td>\n",
       "    </tr>\n",
       "    <tr>\n",
       "      <th>32404854</th>\n",
       "      <td>166687</td>\n",
       "      <td>1</td>\n",
       "      <td>47</td>\n",
       "      <td>married</td>\n",
       "    </tr>\n",
       "    <tr>\n",
       "      <th>32404856</th>\n",
       "      <td>100649</td>\n",
       "      <td>1</td>\n",
       "      <td>57</td>\n",
       "      <td>married</td>\n",
       "    </tr>\n",
       "    <tr>\n",
       "      <th>32404857</th>\n",
       "      <td>100649</td>\n",
       "      <td>1</td>\n",
       "      <td>57</td>\n",
       "      <td>married</td>\n",
       "    </tr>\n",
       "    <tr>\n",
       "      <th>32404858</th>\n",
       "      <td>56331</td>\n",
       "      <td>2</td>\n",
       "      <td>34</td>\n",
       "      <td>married</td>\n",
       "    </tr>\n",
       "  </tbody>\n",
       "</table>\n",
       "<p>30964564 rows × 4 columns</p>\n",
       "</div>"
      ],
      "text/plain": [
       "          income  n_dependants  age                        fam_status\n",
       "0          49620             1   81                           married\n",
       "1          49620             1   81                           married\n",
       "2         158302             2   66                           married\n",
       "5          57797             2   51                           married\n",
       "6          34171             3   20  living with parents and siblings\n",
       "...          ...           ...  ...                               ...\n",
       "32404853  128072             1   62                           married\n",
       "32404854  166687             1   47                           married\n",
       "32404856  100649             1   57                           married\n",
       "32404857  100649             1   57                           married\n",
       "32404858   56331             2   34                           married\n",
       "\n",
       "[30964564 rows x 4 columns]"
      ]
     },
     "execution_count": 43,
     "metadata": {},
     "output_type": "execute_result"
    }
   ],
   "source": [
    "# Making a new dataframe only containing variables related to the family/household.  \n",
    "\n",
    "df_fam = df_updated[['income', 'n_dependants', 'age', 'fam_status']]\n",
    "\n",
    "df_fam"
   ]
  },
  {
   "cell_type": "code",
   "execution_count": 44,
   "id": "009cf28f-8e4d-40f6-9dca-452e0adc62da",
   "metadata": {},
   "outputs": [
    {
     "data": {
      "text/html": [
       "<div>\n",
       "<style scoped>\n",
       "    .dataframe tbody tr th:only-of-type {\n",
       "        vertical-align: middle;\n",
       "    }\n",
       "\n",
       "    .dataframe tbody tr th {\n",
       "        vertical-align: top;\n",
       "    }\n",
       "\n",
       "    .dataframe thead th {\n",
       "        text-align: right;\n",
       "    }\n",
       "</style>\n",
       "<table border=\"1\" class=\"dataframe\">\n",
       "  <thead>\n",
       "    <tr style=\"text-align: right;\">\n",
       "      <th></th>\n",
       "      <th>income</th>\n",
       "      <th>n_dependants</th>\n",
       "      <th>age</th>\n",
       "    </tr>\n",
       "  </thead>\n",
       "  <tbody>\n",
       "    <tr>\n",
       "      <th>min</th>\n",
       "      <td>25903.000000</td>\n",
       "      <td>0.000000</td>\n",
       "      <td>18.000000</td>\n",
       "    </tr>\n",
       "    <tr>\n",
       "      <th>max</th>\n",
       "      <td>593901.000000</td>\n",
       "      <td>3.000000</td>\n",
       "      <td>81.000000</td>\n",
       "    </tr>\n",
       "    <tr>\n",
       "      <th>mean</th>\n",
       "      <td>99675.865108</td>\n",
       "      <td>1.501819</td>\n",
       "      <td>49.468026</td>\n",
       "    </tr>\n",
       "  </tbody>\n",
       "</table>\n",
       "</div>"
      ],
      "text/plain": [
       "             income  n_dependants        age\n",
       "min    25903.000000      0.000000  18.000000\n",
       "max   593901.000000      3.000000  81.000000\n",
       "mean   99675.865108      1.501819  49.468026"
      ]
     },
     "execution_count": 44,
     "metadata": {},
     "output_type": "execute_result"
    }
   ],
   "source": [
    "# Checking statistics of family variables.\n",
    "\n",
    "df_fam[['income', 'n_dependants', 'age']].agg(['min', 'max', 'mean'])"
   ]
  },
  {
   "cell_type": "markdown",
   "id": "7a0730c3-3a16-463f-b90f-b2653d9c61ab",
   "metadata": {},
   "source": [
    "- Number of dependents range from 0 - 3.\n",
    "- Min income is around 25,000.\n",
    "- Max income is around 590,000.\n",
    "- Mean income is around 99,600."
   ]
  },
  {
   "cell_type": "code",
   "execution_count": 45,
   "id": "594a03f1-efae-4d24-a378-1083f252772e",
   "metadata": {},
   "outputs": [
    {
     "data": {
      "text/plain": [
       "0    married\n",
       "Name: fam_status, dtype: object"
      ]
     },
     "execution_count": 45,
     "metadata": {},
     "output_type": "execute_result"
    }
   ],
   "source": [
    "df_fam['fam_status'].mode()"
   ]
  },
  {
   "cell_type": "markdown",
   "id": "47a911c4-60f2-4505-a109-a4237bb5f07d",
   "metadata": {},
   "source": [
    "- This shows that most customers are married. "
   ]
  },
  {
   "cell_type": "code",
   "execution_count": 47,
   "id": "7386b875-d1f8-4e6d-838c-1f2360ddb933",
   "metadata": {},
   "outputs": [
    {
     "data": {
      "text/html": [
       "<div>\n",
       "<style scoped>\n",
       "    .dataframe tbody tr th:only-of-type {\n",
       "        vertical-align: middle;\n",
       "    }\n",
       "\n",
       "    .dataframe tbody tr th {\n",
       "        vertical-align: top;\n",
       "    }\n",
       "\n",
       "    .dataframe thead th {\n",
       "        text-align: right;\n",
       "    }\n",
       "</style>\n",
       "<table border=\"1\" class=\"dataframe\">\n",
       "  <thead>\n",
       "    <tr style=\"text-align: right;\">\n",
       "      <th>fam_status</th>\n",
       "      <th>divorced/widowed</th>\n",
       "      <th>living with parents and siblings</th>\n",
       "      <th>married</th>\n",
       "      <th>single</th>\n",
       "    </tr>\n",
       "    <tr>\n",
       "      <th>n_dependants</th>\n",
       "      <th></th>\n",
       "      <th></th>\n",
       "      <th></th>\n",
       "      <th></th>\n",
       "    </tr>\n",
       "  </thead>\n",
       "  <tbody>\n",
       "    <tr>\n",
       "      <th>0</th>\n",
       "      <td>2645271</td>\n",
       "      <td>0</td>\n",
       "      <td>0</td>\n",
       "      <td>5094410</td>\n",
       "    </tr>\n",
       "    <tr>\n",
       "      <th>1</th>\n",
       "      <td>0</td>\n",
       "      <td>508045</td>\n",
       "      <td>7211061</td>\n",
       "      <td>0</td>\n",
       "    </tr>\n",
       "    <tr>\n",
       "      <th>2</th>\n",
       "      <td>0</td>\n",
       "      <td>484658</td>\n",
       "      <td>7248603</td>\n",
       "      <td>0</td>\n",
       "    </tr>\n",
       "    <tr>\n",
       "      <th>3</th>\n",
       "      <td>0</td>\n",
       "      <td>488469</td>\n",
       "      <td>7284047</td>\n",
       "      <td>0</td>\n",
       "    </tr>\n",
       "  </tbody>\n",
       "</table>\n",
       "</div>"
      ],
      "text/plain": [
       "fam_status    divorced/widowed  living with parents and siblings  married  \\\n",
       "n_dependants                                                                \n",
       "0                      2645271                                 0        0   \n",
       "1                            0                            508045  7211061   \n",
       "2                            0                            484658  7248603   \n",
       "3                            0                            488469  7284047   \n",
       "\n",
       "fam_status     single  \n",
       "n_dependants           \n",
       "0             5094410  \n",
       "1                   0  \n",
       "2                   0  \n",
       "3                   0  "
      ]
     },
     "execution_count": 47,
     "metadata": {},
     "output_type": "execute_result"
    }
   ],
   "source": [
    "# Crosstab family status and number of dependents.\n",
    "\n",
    "crosstab_fam_dep = pd.crosstab(df_fam['n_dependants'], df_fam['fam_status'], dropna = False)\n",
    "\n",
    "crosstab_fam_dep"
   ]
  },
  {
   "cell_type": "code",
   "execution_count": null,
   "id": "289ee886-e969-4b11-9843-4a061b2d12f6",
   "metadata": {},
   "outputs": [],
   "source": [
    "# Crosstab marital status and products - heatmap"
   ]
  },
  {
   "cell_type": "code",
   "execution_count": null,
   "id": "0f71ca3a-b9d8-418a-b4ef-85fcaa289e8c",
   "metadata": {},
   "outputs": [],
   "source": [
    "# Check income and expenditure (prices)\n",
    "# Income and frequency of orders\n",
    "# Income brackets and regions heat map?\n"
   ]
  },
  {
   "cell_type": "code",
   "execution_count": null,
   "id": "d5d08e40-7836-4a55-8411-61a786ecbae2",
   "metadata": {},
   "outputs": [],
   "source": [
    "# Step 8 - Comparing age profile with regions. \n",
    "# Checking age categories vs. regions. \n",
    "# Where are these categories (more older in the west, east, etc?)"
   ]
  },
  {
   "cell_type": "markdown",
   "id": "9390c14a-607b-4073-8611-f0ab1c1f9d4c",
   "metadata": {},
   "source": [
    "## Delete this later - "
   ]
  },
  {
   "cell_type": "markdown",
   "id": "b9a5b3ad-4a30-49ea-a7cf-8d1f9482fe62",
   "metadata": {},
   "source": [
    "Now I can use these groupings to then aggregate another variable - like average orders, marital status, what do they buy/popular departments, etc."
   ]
  },
  {
   "cell_type": "markdown",
   "id": "e90cbb78-eae3-4011-85b8-a4acadd45ed8",
   "metadata": {},
   "source": [
    "- Customer demographics bar chart - to show categories of customers and what they buy\n",
    "- age categories and number of dependents\n",
    "- age categories and marital status\n",
    "- age categories and popular departments\n",
    "- age categories and regions, or order hour\n",
    "- male vs female? more single males or females?\n"
   ]
  },
  {
   "cell_type": "code",
   "execution_count": null,
   "id": "484a3ecf-88dc-45f9-8404-8fe876c9571e",
   "metadata": {},
   "outputs": [],
   "source": []
  },
  {
   "cell_type": "markdown",
   "id": "2f9cfabd-c6a0-4000-a330-662db716091c",
   "metadata": {},
   "source": [
    "#### Age and Family Status"
   ]
  },
  {
   "cell_type": "code",
   "execution_count": null,
   "id": "6c16b4fd-d9fc-42d3-89a0-523b98f5660e",
   "metadata": {},
   "outputs": [],
   "source": [
    "# Initial checks \n",
    "# Check variables - age, income, departments/goods, number of dependents\n",
    "# Graph against 'orders_day_of_week' and 'order_hour_of_day'\n",
    "# Create profiles like 'young parent' or 'single adult'\n",
    "\n",
    "# maybe 'single adult' also includes no dependents, combine variables instead of just having stand alone variables?\n",
    "\n",
    "\n",
    "\n",
    "\n",
    "def age_family_status_profile(row):\n",
    "    if row['age'] <= 33 and row['number_of_dependents'] == 0:\n",
    "        return 'Young single'\n",
    "    elif row['age'] <= 33 and row['number_of_dependents'] >= 1:\n",
    "        return 'Young family'\n",
    "    elif row['age'] > 33 and row['number_of_dependents'] == 0:\n",
    "        return 'Older single'\n",
    "    elif row['age'] > 33 and row['age'] <= 65 and row['number_of_dependents'] >= 1:\n",
    "        return 'Older family'\n",
    "    else:\n",
    "        return 'Other'\n",
    "\n",
    "# then       \n",
    "df_2['age_family_status'] = df_2.apply(age_family_status_profile, axis=1)\n"
   ]
  },
  {
   "cell_type": "markdown",
   "id": "7ebcdfff-21d8-4fe0-ae51-61defc572271",
   "metadata": {},
   "source": [
    "#### Departments"
   ]
  },
  {
   "cell_type": "code",
   "execution_count": null,
   "id": "ba416347-9b3c-4fa3-a1a7-6d68147e5c6c",
   "metadata": {},
   "outputs": [],
   "source": []
  }
 ],
 "metadata": {
  "kernelspec": {
   "display_name": "Python [conda env:base] *",
   "language": "python",
   "name": "conda-base-py"
  },
  "language_info": {
   "codemirror_mode": {
    "name": "ipython",
    "version": 3
   },
   "file_extension": ".py",
   "mimetype": "text/x-python",
   "name": "python",
   "nbconvert_exporter": "python",
   "pygments_lexer": "ipython3",
   "version": "3.13.5"
  }
 },
 "nbformat": 4,
 "nbformat_minor": 5
}
